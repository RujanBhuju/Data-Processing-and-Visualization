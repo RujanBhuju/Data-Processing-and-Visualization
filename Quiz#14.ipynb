{
  "nbformat": 4,
  "nbformat_minor": 0,
  "metadata": {
    "colab": {
      "name": "Quiz#14.ipynb",
      "provenance": [],
      "collapsed_sections": [],
      "authorship_tag": "ABX9TyPzqbelUvtgp/DPfoV+pr/M",
      "include_colab_link": true
    },
    "kernelspec": {
      "name": "python3",
      "display_name": "Python 3"
    },
    "language_info": {
      "name": "python"
    }
  },
  "cells": [
    {
      "cell_type": "markdown",
      "metadata": {
        "id": "view-in-github",
        "colab_type": "text"
      },
      "source": [
        "<a href=\"https://colab.research.google.com/github/RujanBhuju/Data-Processing-and-Visualization/blob/main/Quiz%2314.ipynb\" target=\"_parent\"><img src=\"https://colab.research.google.com/assets/colab-badge.svg\" alt=\"Open In Colab\"/></a>"
      ]
    },
    {
      "cell_type": "markdown",
      "source": [
        "#CPSMA-4313-01\n",
        "\n",
        "#Dr Jacob's Data Processing Visualization\n",
        "\n",
        "#Rujan Bhuju(268963)"
      ],
      "metadata": {
        "id": "2wgLSIzoATuo"
      }
    },
    {
      "cell_type": "markdown",
      "source": [
        "Writing a program to print the 'Happy Birthday' song including my name."
      ],
      "metadata": {
        "id": "8lpPKwdEC0MC"
      }
    },
    {
      "cell_type": "code",
      "source": [
        "birthday_song = 'Happy Birthday to You,\\nHappy Birthday to You \\nHappy Birthday Dear (Rujan)\\nHappy Birthday to You.\\nFrom good friends and true,\\nFrom old friends and new,\\nMay good luck go with you,\\nAnd happiness too,\\nHappy Birthday to You,\\nHappy Birthday to You \\nHappy Birthday Dear (Rujan)'\n",
        "print(birthday_song)"
      ],
      "metadata": {
        "colab": {
          "base_uri": "https://localhost:8080/"
        },
        "id": "IVvYzembAVoT",
        "outputId": "28a992c3-aad5-4e20-b76f-7303b139ecef"
      },
      "execution_count": 18,
      "outputs": [
        {
          "output_type": "stream",
          "name": "stdout",
          "text": [
            "Happy Birthday to You,\n",
            "Happy Birthday to You \n",
            "Happy Birthday Dear (Rujan)\n",
            "Happy Birthday to You.\n",
            "From good friends and true,\n",
            "From old friends and new,\n",
            "May good luck go with you,\n",
            "And happiness too,\n",
            "Happy Birthday to You,\n",
            "Happy Birthday to You \n",
            "Happy Birthday Dear (Rujan)\n"
          ]
        }
      ]
    }
  ]
}