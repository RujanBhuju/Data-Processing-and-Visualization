{
  "nbformat": 4,
  "nbformat_minor": 0,
  "metadata": {
    "colab": {
      "name": "Quiz22.ipynb",
      "provenance": [],
      "collapsed_sections": [],
      "authorship_tag": "ABX9TyPfEoMcYz499dxELnvyP6lz",
      "include_colab_link": true
    },
    "kernelspec": {
      "name": "python3",
      "display_name": "Python 3"
    },
    "language_info": {
      "name": "python"
    }
  },
  "cells": [
    {
      "cell_type": "markdown",
      "metadata": {
        "id": "view-in-github",
        "colab_type": "text"
      },
      "source": [
        "<a href=\"https://colab.research.google.com/github/RujanBhuju/Data-Processing-and-Visualization/blob/main/Quiz22.ipynb\" target=\"_parent\"><img src=\"https://colab.research.google.com/assets/colab-badge.svg\" alt=\"Open In Colab\"/></a>"
      ]
    },
    {
      "cell_type": "markdown",
      "source": [
        "#CPSMA-4313-01\n",
        "\n",
        "#Dr Jacob's Data Processing Visualization\n",
        "\n",
        "#Rujan Bhuju(268963)"
      ],
      "metadata": {
        "id": "J-Z-QSljpeod"
      }
    },
    {
      "cell_type": "markdown",
      "source": [
        "Here i wil be Discussing the strengths and weaknesses of some of posters that include statistical charts or graphs from  Oklahaoma Research Day. I will also be discussing that if they display excellence or do they lie?"
      ],
      "metadata": {
        "id": "u5VGoKWTpjPO"
      }
    },
    {
      "cell_type": "markdown",
      "source": [
        "I will be discusiing about https://symposium.foragerone.com/okrd22/presentations/37501."
      ],
      "metadata": {
        "id": "PpikvpkCp_5E"
      }
    },
    {
      "cell_type": "markdown",
      "source": [
        "1)\tThe graph shows the influence of various agents on the FL3 and T24t metastatic cancer cell lines. The graphs are very simple as the position of the bars tells us the chloroquine treatment and the height of the bar indicates the % cell death and % of cell survival. The graphs are visually appealing, and the best part is that the graphs are color-coded. Just by looking at the color, we can identify the kind of cells that are being treated. The graphs are either skewed to the right or the left. Everything on the graph is properly labeled. One of the weaknesses would be that the graph is communicating less. Even after having 8 graphs, it is only indicating % cell death or survival.  Even if it’s not the most efficient way to represent the data I think it is displaying excellence."
      ],
      "metadata": {
        "id": "hJzntuZA5MuH"
      }
    },
    {
      "cell_type": "markdown",
      "source": [
        "I will be discusiing about https://symposium.foragerone.com/okrd22/presentations/37671"
      ],
      "metadata": {
        "id": "hSwfyQxc5Off"
      }
    },
    {
      "cell_type": "markdown",
      "source": [
        "1)\tThe line graph illustrates the change in the calculated estimated total count of organisms in samples gathered at Ross Park over time.  The line graph is simple as the position of the point shows the month and the total count of the sample. The graph is visually attractive. It clearly illustrates the result it is trying to convey. Even if the results are very clear but the amount of information it is showing is less.  The second graph is color-coded. Since it has different lines of organism it is very easier to compare among the organism in any given month. the graph surely illustrates excellence."
      ],
      "metadata": {
        "id": "Z9Gcn1ai_IzB"
      }
    },
    {
      "cell_type": "markdown",
      "source": [
        "I will be discussing about https://symposium.foragerone.com/okrd22/presentations/37243"
      ],
      "metadata": {
        "id": "gZyD8ZsdAGaw"
      }
    },
    {
      "cell_type": "markdown",
      "source": [
        "The graph illustrates the cell viability of osteoblast cells on Agar Scaffolds. The graph is well labeled and color-coded.  The x-axis represents the different sample types while the y-axis represents the % reduction of Alamar Blue Reagent. The appearance of the graph is very attractive however the color combination is not quite satisfying.  "
      ],
      "metadata": {
        "id": "lxTE5_P7CHOy"
      }
    }
  ]
}