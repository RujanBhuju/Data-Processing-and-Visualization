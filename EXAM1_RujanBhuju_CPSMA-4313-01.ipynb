{
  "nbformat": 4,
  "nbformat_minor": 0,
  "metadata": {
    "colab": {
      "name": "EXAM_1.ipynb",
      "provenance": [],
      "collapsed_sections": [],
      "authorship_tag": "ABX9TyMv8+CIR2NnUPXQVwHGIdH3",
      "include_colab_link": true
    },
    "kernelspec": {
      "name": "python3",
      "display_name": "Python 3"
    },
    "language_info": {
      "name": "python"
    }
  },
  "cells": [
    {
      "cell_type": "markdown",
      "metadata": {
        "id": "view-in-github",
        "colab_type": "text"
      },
      "source": [
        "<a href=\"https://colab.research.google.com/github/RujanBhuju/Data-Processing-and-Visualization/blob/main/EXAM1_RujanBhuju_CPSMA-4313-01.ipynb\" target=\"_parent\"><img src=\"https://colab.research.google.com/assets/colab-badge.svg\" alt=\"Open In Colab\"/></a>"
      ]
    },
    {
      "cell_type": "markdown",
      "source": [
        "#CPSMA-4313-01\n",
        "\n",
        "#Exam #1\n",
        "\n",
        "#Dr Jacob's Data Processing Visualization\n",
        "\n",
        "#Rujan Bhuju(268963)"
      ],
      "metadata": {
        "id": "0YqH_Qn0ZD5G"
      }
    },
    {
      "cell_type": "markdown",
      "source": [
        "#Importing the required library for the exam.\n"
      ],
      "metadata": {
        "id": "EqKG_m_VlL4F"
      }
    },
    {
      "cell_type": "code",
      "source": [
        "import requests\n",
        "import pandas as pd\n",
        "from bs4 import BeautifulSoup\n",
        "import matplotlib.pyplot as plt\n",
        "from tabulate import tabulate"
      ],
      "metadata": {
        "id": "jScv_3_elEUB"
      },
      "execution_count": 2,
      "outputs": []
    },
    {
      "cell_type": "markdown",
      "source": [
        "#Task-1"
      ],
      "metadata": {
        "id": "Oudl7dctmMdg"
      }
    },
    {
      "cell_type": "markdown",
      "source": [
        "Here,\n",
        "I will Gather the table on 8000 km mountains from the wikipedia page and compute the following tasks.\n",
        "\n",
        "\n",
        "(a) Store the data as a pandas dataframe\n",
        "\n",
        "\n",
        "(b) Return only mountains in the ‘Himalayas’\n",
        "\n",
        "\n",
        "(c) Create a barchart of the Ranges\n",
        "\n",
        "\n",
        "(d) Create a box-plot of the height in Feet\n",
        "\n",
        "\n",
        "(e) Report the mean, standard deviation and five number summary of the height in Feet\n",
        "\n",
        "\n",
        "(f) Report the mean and median of mountains when grouped by their Range."
      ],
      "metadata": {
        "id": "c74K55aKafzQ"
      }
    },
    {
      "cell_type": "markdown",
      "source": [
        "#(a)Storing the data in pandas dataframe. for the referance i have used my Quiz1.ipynb, Quiz2.ipynb, Quiz8.ipynb from github for this task. The link for my referance is:\n",
        "#WorkCited\n",
        "\n",
        "https://github.com/RujanBhuju/Data-Processing-and-Visualization/blob/main/Quiz8.ipynb \n",
        "\n",
        "https://github.com/RujanBhuju/Data-Processing-and-Visualization/blob/main/Quiz2.ipynb\n",
        "\n",
        "\n",
        "https://github.com/RujanBhuju/Data-Processing-and-Visualization/blob/main/Quiz1.ipynb\n",
        "\n",
        "\n",
        "``I attest that the resources above were the only ones utilized in completing the exam and the work included is my own and no one else from the course.''\n"
      ],
      "metadata": {
        "id": "BnjwAOj5bTP2"
      }
    },
    {
      "cell_type": "markdown",
      "source": [
        "#Computing the required HTML using request and storing the data as a pandas dataframe."
      ],
      "metadata": {
        "id": "imlPZUKuaPW0"
      }
    },
    {
      "cell_type": "code",
      "source": [
        "r = requests.get('https://en.wikipedia.org/wiki/List_of_mountains_by_elevation')\n",
        "html_contents = r.text\n",
        "html_soup = BeautifulSoup(html_contents,\"lxml\")"
      ],
      "metadata": {
        "id": "f5c-eWr8aDhT"
      },
      "execution_count": 3,
      "outputs": []
    },
    {
      "cell_type": "markdown",
      "source": [
        "computing the table of the wikipedia page.\n",
        "\n"
      ],
      "metadata": {
        "id": "-K_ltXC5cC0z"
      }
    },
    {
      "cell_type": "code",
      "source": [
        "html_soup.table.find_all('a')\n"
      ],
      "metadata": {
        "colab": {
          "base_uri": "https://localhost:8080/"
        },
        "id": "MsObBbaIcutM",
        "outputId": "b4af2a7e-748e-4c67-b933-960354706e31"
      },
      "execution_count": 4,
      "outputs": [
        {
          "output_type": "execute_result",
          "data": {
            "text/plain": [
              "[<a href=\"/wiki/Mount_Everest\" title=\"Mount Everest\">Mount Everest</a>,\n",
              " <a href=\"/wiki/Geography_of_Nepal\" title=\"Geography of Nepal\">Nepal</a>,\n",
              " <a href=\"/wiki/K2\" title=\"K2\">K2</a>,\n",
              " <a href=\"/wiki/Kangchenjunga\" title=\"Kangchenjunga\">Kangchenjunga</a>,\n",
              " <a href=\"/wiki/Lhotse\" title=\"Lhotse\">Lhotse</a>,\n",
              " <a href=\"/wiki/Makalu\" title=\"Makalu\">Makalu</a>,\n",
              " <a href=\"/wiki/Cho_Oyu\" title=\"Cho Oyu\">Cho Oyu</a>,\n",
              " <a href=\"/wiki/Dhaulagiri\" title=\"Dhaulagiri\">Dhaulagiri</a>,\n",
              " <a href=\"/wiki/Manaslu\" title=\"Manaslu\">Manaslu</a>,\n",
              " <a href=\"/wiki/Nanga_Parbat\" title=\"Nanga Parbat\">Nanga Parbat</a>,\n",
              " <a href=\"/wiki/Annapurna\" title=\"Annapurna\">Annapurna</a>,\n",
              " <a href=\"/wiki/Gasherbrum_I\" title=\"Gasherbrum I\">Gasherbrum I</a>,\n",
              " <a href=\"/wiki/Broad_Peak\" title=\"Broad Peak\">Broad Peak</a>,\n",
              " <a href=\"/wiki/Gasherbrum_II\" title=\"Gasherbrum II\">Gasherbrum II</a>,\n",
              " <a href=\"/wiki/Shishapangma\" title=\"Shishapangma\">Shishapangma</a>]"
            ]
          },
          "metadata": {},
          "execution_count": 4
        }
      ]
    },
    {
      "cell_type": "code",
      "source": [
        "tables = html_soup.find_all('table',class_=\"wikitable\")\n",
        "tables[0].find_all('a')\n",
        "df = pd.read_html(str(tables))[0]\n",
        "df"
      ],
      "metadata": {
        "colab": {
          "base_uri": "https://localhost:8080/",
          "height": 488
        },
        "id": "KbTRujJycat_",
        "outputId": "4ec5a4c8-2a75-4c66-c937-611604f82707"
      },
      "execution_count": 5,
      "outputs": [
        {
          "output_type": "execute_result",
          "data": {
            "text/html": [
              "\n",
              "  <div id=\"df-5eacc23c-204b-4eb4-afda-52ea223003a0\">\n",
              "    <div class=\"colab-df-container\">\n",
              "      <div>\n",
              "<style scoped>\n",
              "    .dataframe tbody tr th:only-of-type {\n",
              "        vertical-align: middle;\n",
              "    }\n",
              "\n",
              "    .dataframe tbody tr th {\n",
              "        vertical-align: top;\n",
              "    }\n",
              "\n",
              "    .dataframe thead th {\n",
              "        text-align: right;\n",
              "    }\n",
              "</style>\n",
              "<table border=\"1\" class=\"dataframe\">\n",
              "  <thead>\n",
              "    <tr style=\"text-align: right;\">\n",
              "      <th></th>\n",
              "      <th>Mountain</th>\n",
              "      <th>Metres</th>\n",
              "      <th>Feet</th>\n",
              "      <th>Range</th>\n",
              "      <th>Location and Notes</th>\n",
              "    </tr>\n",
              "  </thead>\n",
              "  <tbody>\n",
              "    <tr>\n",
              "      <th>0</th>\n",
              "      <td>Mount Everest</td>\n",
              "      <td>8849</td>\n",
              "      <td>29032</td>\n",
              "      <td>Himalayas</td>\n",
              "      <td>Nepal/China</td>\n",
              "    </tr>\n",
              "    <tr>\n",
              "      <th>1</th>\n",
              "      <td>K2</td>\n",
              "      <td>8611</td>\n",
              "      <td>28251</td>\n",
              "      <td>Karakoram</td>\n",
              "      <td>Pakistan/China</td>\n",
              "    </tr>\n",
              "    <tr>\n",
              "      <th>2</th>\n",
              "      <td>Kangchenjunga</td>\n",
              "      <td>8586</td>\n",
              "      <td>28169</td>\n",
              "      <td>Himalayas</td>\n",
              "      <td>Nepal/India</td>\n",
              "    </tr>\n",
              "    <tr>\n",
              "      <th>3</th>\n",
              "      <td>Lhotse</td>\n",
              "      <td>8516</td>\n",
              "      <td>27940</td>\n",
              "      <td>Himalayas</td>\n",
              "      <td>Nepal – Climbers ascend Lhotse Face in climbin...</td>\n",
              "    </tr>\n",
              "    <tr>\n",
              "      <th>4</th>\n",
              "      <td>Makalu</td>\n",
              "      <td>8485</td>\n",
              "      <td>27838</td>\n",
              "      <td>Himalayas</td>\n",
              "      <td>Nepal</td>\n",
              "    </tr>\n",
              "    <tr>\n",
              "      <th>5</th>\n",
              "      <td>Cho Oyu</td>\n",
              "      <td>8188</td>\n",
              "      <td>26864</td>\n",
              "      <td>Himalayas</td>\n",
              "      <td>Nepal – Considered \"easiest\" eight-thousander</td>\n",
              "    </tr>\n",
              "    <tr>\n",
              "      <th>6</th>\n",
              "      <td>Dhaulagiri</td>\n",
              "      <td>8167</td>\n",
              "      <td>26795</td>\n",
              "      <td>Himalayas</td>\n",
              "      <td>Nepal – Presumed world's highest from 1808-1838</td>\n",
              "    </tr>\n",
              "    <tr>\n",
              "      <th>7</th>\n",
              "      <td>Manaslu</td>\n",
              "      <td>8163</td>\n",
              "      <td>26781</td>\n",
              "      <td>Himalayas</td>\n",
              "      <td>Nepal</td>\n",
              "    </tr>\n",
              "    <tr>\n",
              "      <th>8</th>\n",
              "      <td>Nanga Parbat</td>\n",
              "      <td>8126</td>\n",
              "      <td>26660</td>\n",
              "      <td>Himalayas</td>\n",
              "      <td>Pakistan</td>\n",
              "    </tr>\n",
              "    <tr>\n",
              "      <th>9</th>\n",
              "      <td>Annapurna</td>\n",
              "      <td>8091</td>\n",
              "      <td>26545</td>\n",
              "      <td>Himalayas</td>\n",
              "      <td>Nepal – First eight-thousander to be climbed (...</td>\n",
              "    </tr>\n",
              "    <tr>\n",
              "      <th>10</th>\n",
              "      <td>Gasherbrum I (Hidden peak; K5)</td>\n",
              "      <td>8080</td>\n",
              "      <td>26509</td>\n",
              "      <td>Karakoram</td>\n",
              "      <td>Pakistan /China – Originally named K5</td>\n",
              "    </tr>\n",
              "    <tr>\n",
              "      <th>11</th>\n",
              "      <td>Broad Peak</td>\n",
              "      <td>8051</td>\n",
              "      <td>26414</td>\n",
              "      <td>Karakoram</td>\n",
              "      <td>Pakistan /China</td>\n",
              "    </tr>\n",
              "    <tr>\n",
              "      <th>12</th>\n",
              "      <td>Gasherbrum II (K4)</td>\n",
              "      <td>8035</td>\n",
              "      <td>26362</td>\n",
              "      <td>Karakoram</td>\n",
              "      <td>Pakistan/China – Originally named K4</td>\n",
              "    </tr>\n",
              "    <tr>\n",
              "      <th>13</th>\n",
              "      <td>Shishapangma</td>\n",
              "      <td>8027</td>\n",
              "      <td>26335</td>\n",
              "      <td>Himalayas</td>\n",
              "      <td>China</td>\n",
              "    </tr>\n",
              "  </tbody>\n",
              "</table>\n",
              "</div>\n",
              "      <button class=\"colab-df-convert\" onclick=\"convertToInteractive('df-5eacc23c-204b-4eb4-afda-52ea223003a0')\"\n",
              "              title=\"Convert this dataframe to an interactive table.\"\n",
              "              style=\"display:none;\">\n",
              "        \n",
              "  <svg xmlns=\"http://www.w3.org/2000/svg\" height=\"24px\"viewBox=\"0 0 24 24\"\n",
              "       width=\"24px\">\n",
              "    <path d=\"M0 0h24v24H0V0z\" fill=\"none\"/>\n",
              "    <path d=\"M18.56 5.44l.94 2.06.94-2.06 2.06-.94-2.06-.94-.94-2.06-.94 2.06-2.06.94zm-11 1L8.5 8.5l.94-2.06 2.06-.94-2.06-.94L8.5 2.5l-.94 2.06-2.06.94zm10 10l.94 2.06.94-2.06 2.06-.94-2.06-.94-.94-2.06-.94 2.06-2.06.94z\"/><path d=\"M17.41 7.96l-1.37-1.37c-.4-.4-.92-.59-1.43-.59-.52 0-1.04.2-1.43.59L10.3 9.45l-7.72 7.72c-.78.78-.78 2.05 0 2.83L4 21.41c.39.39.9.59 1.41.59.51 0 1.02-.2 1.41-.59l7.78-7.78 2.81-2.81c.8-.78.8-2.07 0-2.86zM5.41 20L4 18.59l7.72-7.72 1.47 1.35L5.41 20z\"/>\n",
              "  </svg>\n",
              "      </button>\n",
              "      \n",
              "  <style>\n",
              "    .colab-df-container {\n",
              "      display:flex;\n",
              "      flex-wrap:wrap;\n",
              "      gap: 12px;\n",
              "    }\n",
              "\n",
              "    .colab-df-convert {\n",
              "      background-color: #E8F0FE;\n",
              "      border: none;\n",
              "      border-radius: 50%;\n",
              "      cursor: pointer;\n",
              "      display: none;\n",
              "      fill: #1967D2;\n",
              "      height: 32px;\n",
              "      padding: 0 0 0 0;\n",
              "      width: 32px;\n",
              "    }\n",
              "\n",
              "    .colab-df-convert:hover {\n",
              "      background-color: #E2EBFA;\n",
              "      box-shadow: 0px 1px 2px rgba(60, 64, 67, 0.3), 0px 1px 3px 1px rgba(60, 64, 67, 0.15);\n",
              "      fill: #174EA6;\n",
              "    }\n",
              "\n",
              "    [theme=dark] .colab-df-convert {\n",
              "      background-color: #3B4455;\n",
              "      fill: #D2E3FC;\n",
              "    }\n",
              "\n",
              "    [theme=dark] .colab-df-convert:hover {\n",
              "      background-color: #434B5C;\n",
              "      box-shadow: 0px 1px 3px 1px rgba(0, 0, 0, 0.15);\n",
              "      filter: drop-shadow(0px 1px 2px rgba(0, 0, 0, 0.3));\n",
              "      fill: #FFFFFF;\n",
              "    }\n",
              "  </style>\n",
              "\n",
              "      <script>\n",
              "        const buttonEl =\n",
              "          document.querySelector('#df-5eacc23c-204b-4eb4-afda-52ea223003a0 button.colab-df-convert');\n",
              "        buttonEl.style.display =\n",
              "          google.colab.kernel.accessAllowed ? 'block' : 'none';\n",
              "\n",
              "        async function convertToInteractive(key) {\n",
              "          const element = document.querySelector('#df-5eacc23c-204b-4eb4-afda-52ea223003a0');\n",
              "          const dataTable =\n",
              "            await google.colab.kernel.invokeFunction('convertToInteractive',\n",
              "                                                     [key], {});\n",
              "          if (!dataTable) return;\n",
              "\n",
              "          const docLinkHtml = 'Like what you see? Visit the ' +\n",
              "            '<a target=\"_blank\" href=https://colab.research.google.com/notebooks/data_table.ipynb>data table notebook</a>'\n",
              "            + ' to learn more about interactive tables.';\n",
              "          element.innerHTML = '';\n",
              "          dataTable['output_type'] = 'display_data';\n",
              "          await google.colab.output.renderOutput(dataTable, element);\n",
              "          const docLink = document.createElement('div');\n",
              "          docLink.innerHTML = docLinkHtml;\n",
              "          element.appendChild(docLink);\n",
              "        }\n",
              "      </script>\n",
              "    </div>\n",
              "  </div>\n",
              "  "
            ],
            "text/plain": [
              "                          Mountain  ...                                 Location and Notes\n",
              "0                    Mount Everest  ...                                        Nepal/China\n",
              "1                               K2  ...                                     Pakistan/China\n",
              "2                    Kangchenjunga  ...                                        Nepal/India\n",
              "3                           Lhotse  ...  Nepal – Climbers ascend Lhotse Face in climbin...\n",
              "4                           Makalu  ...                                              Nepal\n",
              "5                          Cho Oyu  ...      Nepal – Considered \"easiest\" eight-thousander\n",
              "6                       Dhaulagiri  ...    Nepal – Presumed world's highest from 1808-1838\n",
              "7                          Manaslu  ...                                              Nepal\n",
              "8                     Nanga Parbat  ...                                           Pakistan\n",
              "9                        Annapurna  ...  Nepal – First eight-thousander to be climbed (...\n",
              "10  Gasherbrum I (Hidden peak; K5)  ...              Pakistan /China – Originally named K5\n",
              "11                      Broad Peak  ...                                    Pakistan /China\n",
              "12              Gasherbrum II (K4)  ...               Pakistan/China – Originally named K4\n",
              "13                    Shishapangma  ...                                              China\n",
              "\n",
              "[14 rows x 5 columns]"
            ]
          },
          "metadata": {},
          "execution_count": 5
        }
      ]
    },
    {
      "cell_type": "markdown",
      "source": [
        "The output shows the table of the wikipedia page."
      ],
      "metadata": {
        "id": "Et9pQyvg78gE"
      }
    },
    {
      "cell_type": "markdown",
      "source": [
        "#(b)Returning the only mountains in the range of ‘Himalayas’.\n"
      ],
      "metadata": {
        "id": "qyb3-mpufbLc"
      }
    },
    {
      "cell_type": "code",
      "source": [
        "df.query('Range == \"Himalayas\"')"
      ],
      "metadata": {
        "colab": {
          "base_uri": "https://localhost:8080/",
          "height": 363
        },
        "id": "U0NmYv3eeb0M",
        "outputId": "035edf45-ee78-498e-f782-0e9756b1cf15"
      },
      "execution_count": 6,
      "outputs": [
        {
          "output_type": "execute_result",
          "data": {
            "text/html": [
              "\n",
              "  <div id=\"df-9fb3b62a-63d5-44a5-8818-607b581e3b35\">\n",
              "    <div class=\"colab-df-container\">\n",
              "      <div>\n",
              "<style scoped>\n",
              "    .dataframe tbody tr th:only-of-type {\n",
              "        vertical-align: middle;\n",
              "    }\n",
              "\n",
              "    .dataframe tbody tr th {\n",
              "        vertical-align: top;\n",
              "    }\n",
              "\n",
              "    .dataframe thead th {\n",
              "        text-align: right;\n",
              "    }\n",
              "</style>\n",
              "<table border=\"1\" class=\"dataframe\">\n",
              "  <thead>\n",
              "    <tr style=\"text-align: right;\">\n",
              "      <th></th>\n",
              "      <th>Mountain</th>\n",
              "      <th>Metres</th>\n",
              "      <th>Feet</th>\n",
              "      <th>Range</th>\n",
              "      <th>Location and Notes</th>\n",
              "    </tr>\n",
              "  </thead>\n",
              "  <tbody>\n",
              "    <tr>\n",
              "      <th>0</th>\n",
              "      <td>Mount Everest</td>\n",
              "      <td>8849</td>\n",
              "      <td>29032</td>\n",
              "      <td>Himalayas</td>\n",
              "      <td>Nepal/China</td>\n",
              "    </tr>\n",
              "    <tr>\n",
              "      <th>2</th>\n",
              "      <td>Kangchenjunga</td>\n",
              "      <td>8586</td>\n",
              "      <td>28169</td>\n",
              "      <td>Himalayas</td>\n",
              "      <td>Nepal/India</td>\n",
              "    </tr>\n",
              "    <tr>\n",
              "      <th>3</th>\n",
              "      <td>Lhotse</td>\n",
              "      <td>8516</td>\n",
              "      <td>27940</td>\n",
              "      <td>Himalayas</td>\n",
              "      <td>Nepal – Climbers ascend Lhotse Face in climbin...</td>\n",
              "    </tr>\n",
              "    <tr>\n",
              "      <th>4</th>\n",
              "      <td>Makalu</td>\n",
              "      <td>8485</td>\n",
              "      <td>27838</td>\n",
              "      <td>Himalayas</td>\n",
              "      <td>Nepal</td>\n",
              "    </tr>\n",
              "    <tr>\n",
              "      <th>5</th>\n",
              "      <td>Cho Oyu</td>\n",
              "      <td>8188</td>\n",
              "      <td>26864</td>\n",
              "      <td>Himalayas</td>\n",
              "      <td>Nepal – Considered \"easiest\" eight-thousander</td>\n",
              "    </tr>\n",
              "    <tr>\n",
              "      <th>6</th>\n",
              "      <td>Dhaulagiri</td>\n",
              "      <td>8167</td>\n",
              "      <td>26795</td>\n",
              "      <td>Himalayas</td>\n",
              "      <td>Nepal – Presumed world's highest from 1808-1838</td>\n",
              "    </tr>\n",
              "    <tr>\n",
              "      <th>7</th>\n",
              "      <td>Manaslu</td>\n",
              "      <td>8163</td>\n",
              "      <td>26781</td>\n",
              "      <td>Himalayas</td>\n",
              "      <td>Nepal</td>\n",
              "    </tr>\n",
              "    <tr>\n",
              "      <th>8</th>\n",
              "      <td>Nanga Parbat</td>\n",
              "      <td>8126</td>\n",
              "      <td>26660</td>\n",
              "      <td>Himalayas</td>\n",
              "      <td>Pakistan</td>\n",
              "    </tr>\n",
              "    <tr>\n",
              "      <th>9</th>\n",
              "      <td>Annapurna</td>\n",
              "      <td>8091</td>\n",
              "      <td>26545</td>\n",
              "      <td>Himalayas</td>\n",
              "      <td>Nepal – First eight-thousander to be climbed (...</td>\n",
              "    </tr>\n",
              "    <tr>\n",
              "      <th>13</th>\n",
              "      <td>Shishapangma</td>\n",
              "      <td>8027</td>\n",
              "      <td>26335</td>\n",
              "      <td>Himalayas</td>\n",
              "      <td>China</td>\n",
              "    </tr>\n",
              "  </tbody>\n",
              "</table>\n",
              "</div>\n",
              "      <button class=\"colab-df-convert\" onclick=\"convertToInteractive('df-9fb3b62a-63d5-44a5-8818-607b581e3b35')\"\n",
              "              title=\"Convert this dataframe to an interactive table.\"\n",
              "              style=\"display:none;\">\n",
              "        \n",
              "  <svg xmlns=\"http://www.w3.org/2000/svg\" height=\"24px\"viewBox=\"0 0 24 24\"\n",
              "       width=\"24px\">\n",
              "    <path d=\"M0 0h24v24H0V0z\" fill=\"none\"/>\n",
              "    <path d=\"M18.56 5.44l.94 2.06.94-2.06 2.06-.94-2.06-.94-.94-2.06-.94 2.06-2.06.94zm-11 1L8.5 8.5l.94-2.06 2.06-.94-2.06-.94L8.5 2.5l-.94 2.06-2.06.94zm10 10l.94 2.06.94-2.06 2.06-.94-2.06-.94-.94-2.06-.94 2.06-2.06.94z\"/><path d=\"M17.41 7.96l-1.37-1.37c-.4-.4-.92-.59-1.43-.59-.52 0-1.04.2-1.43.59L10.3 9.45l-7.72 7.72c-.78.78-.78 2.05 0 2.83L4 21.41c.39.39.9.59 1.41.59.51 0 1.02-.2 1.41-.59l7.78-7.78 2.81-2.81c.8-.78.8-2.07 0-2.86zM5.41 20L4 18.59l7.72-7.72 1.47 1.35L5.41 20z\"/>\n",
              "  </svg>\n",
              "      </button>\n",
              "      \n",
              "  <style>\n",
              "    .colab-df-container {\n",
              "      display:flex;\n",
              "      flex-wrap:wrap;\n",
              "      gap: 12px;\n",
              "    }\n",
              "\n",
              "    .colab-df-convert {\n",
              "      background-color: #E8F0FE;\n",
              "      border: none;\n",
              "      border-radius: 50%;\n",
              "      cursor: pointer;\n",
              "      display: none;\n",
              "      fill: #1967D2;\n",
              "      height: 32px;\n",
              "      padding: 0 0 0 0;\n",
              "      width: 32px;\n",
              "    }\n",
              "\n",
              "    .colab-df-convert:hover {\n",
              "      background-color: #E2EBFA;\n",
              "      box-shadow: 0px 1px 2px rgba(60, 64, 67, 0.3), 0px 1px 3px 1px rgba(60, 64, 67, 0.15);\n",
              "      fill: #174EA6;\n",
              "    }\n",
              "\n",
              "    [theme=dark] .colab-df-convert {\n",
              "      background-color: #3B4455;\n",
              "      fill: #D2E3FC;\n",
              "    }\n",
              "\n",
              "    [theme=dark] .colab-df-convert:hover {\n",
              "      background-color: #434B5C;\n",
              "      box-shadow: 0px 1px 3px 1px rgba(0, 0, 0, 0.15);\n",
              "      filter: drop-shadow(0px 1px 2px rgba(0, 0, 0, 0.3));\n",
              "      fill: #FFFFFF;\n",
              "    }\n",
              "  </style>\n",
              "\n",
              "      <script>\n",
              "        const buttonEl =\n",
              "          document.querySelector('#df-9fb3b62a-63d5-44a5-8818-607b581e3b35 button.colab-df-convert');\n",
              "        buttonEl.style.display =\n",
              "          google.colab.kernel.accessAllowed ? 'block' : 'none';\n",
              "\n",
              "        async function convertToInteractive(key) {\n",
              "          const element = document.querySelector('#df-9fb3b62a-63d5-44a5-8818-607b581e3b35');\n",
              "          const dataTable =\n",
              "            await google.colab.kernel.invokeFunction('convertToInteractive',\n",
              "                                                     [key], {});\n",
              "          if (!dataTable) return;\n",
              "\n",
              "          const docLinkHtml = 'Like what you see? Visit the ' +\n",
              "            '<a target=\"_blank\" href=https://colab.research.google.com/notebooks/data_table.ipynb>data table notebook</a>'\n",
              "            + ' to learn more about interactive tables.';\n",
              "          element.innerHTML = '';\n",
              "          dataTable['output_type'] = 'display_data';\n",
              "          await google.colab.output.renderOutput(dataTable, element);\n",
              "          const docLink = document.createElement('div');\n",
              "          docLink.innerHTML = docLinkHtml;\n",
              "          element.appendChild(docLink);\n",
              "        }\n",
              "      </script>\n",
              "    </div>\n",
              "  </div>\n",
              "  "
            ],
            "text/plain": [
              "         Mountain  ...                                 Location and Notes\n",
              "0   Mount Everest  ...                                        Nepal/China\n",
              "2   Kangchenjunga  ...                                        Nepal/India\n",
              "3          Lhotse  ...  Nepal – Climbers ascend Lhotse Face in climbin...\n",
              "4          Makalu  ...                                              Nepal\n",
              "5         Cho Oyu  ...      Nepal – Considered \"easiest\" eight-thousander\n",
              "6      Dhaulagiri  ...    Nepal – Presumed world's highest from 1808-1838\n",
              "7         Manaslu  ...                                              Nepal\n",
              "8    Nanga Parbat  ...                                           Pakistan\n",
              "9       Annapurna  ...  Nepal – First eight-thousander to be climbed (...\n",
              "13   Shishapangma  ...                                              China\n",
              "\n",
              "[10 rows x 5 columns]"
            ]
          },
          "metadata": {},
          "execution_count": 6
        }
      ]
    },
    {
      "cell_type": "markdown",
      "source": [
        "The output shows the table of all the mountains that has the range of Himalayas."
      ],
      "metadata": {
        "id": "Sefqtt5Z8DBM"
      }
    },
    {
      "cell_type": "markdown",
      "source": [
        "#(c)Creating the barchart of the Ranges."
      ],
      "metadata": {
        "id": "huzcoQbqf5xq"
      }
    },
    {
      "cell_type": "code",
      "source": [
        "dfg = df.groupby(['Range'])['Range'].count()\n",
        "\n",
        "dfg.plot(kind='bar', title='Mountains', ylabel='number of mountains',\n",
        "         xlabel='ranges', figsize=(9, 8))"
      ],
      "metadata": {
        "colab": {
          "base_uri": "https://localhost:8080/",
          "height": 574
        },
        "id": "idHH5xbHf9Ew",
        "outputId": "d98cd2d8-496d-4f41-ce78-fad6b1798de3"
      },
      "execution_count": 8,
      "outputs": [
        {
          "output_type": "execute_result",
          "data": {
            "text/plain": [
              "<matplotlib.axes._subplots.AxesSubplot at 0x7ff941cef690>"
            ]
          },
          "metadata": {},
          "execution_count": 8
        },
        {
          "output_type": "display_data",
          "data": {
            "image/png": "[encoded data removed]",
            "text/plain": [
              "<Figure size 648x576 with 1 Axes>"
            ]
          },
          "metadata": {
            "needs_background": "light"
          }
        }
      ]
    },
    {
      "cell_type": "markdown",
      "source": [
        "The output shows the barchart of the ranges."
      ],
      "metadata": {
        "id": "8_huWy_o8MGy"
      }
    },
    {
      "cell_type": "markdown",
      "source": [
        "#(d)Creating a boxplot of the height in feet."
      ],
      "metadata": {
        "id": "LzRS_P0tgffa"
      }
    },
    {
      "cell_type": "code",
      "source": [
        "df.Feet.plot(kind = 'box')\n"
      ],
      "metadata": {
        "colab": {
          "base_uri": "https://localhost:8080/",
          "height": 282
        },
        "id": "0yBmxvjpgpx9",
        "outputId": "6d02db05-f0a0-4605-b1e7-df20e8a8872f"
      },
      "execution_count": null,
      "outputs": [
        {
          "output_type": "execute_result",
          "data": {
            "text/plain": [
              "<matplotlib.axes._subplots.AxesSubplot at 0x7ff564de2390>"
            ]
          },
          "metadata": {},
          "execution_count": 78
        },
        {
          "output_type": "display_data",
          "data": {
            "image/png": "[encoded data removed]",
            "text/plain": [
              "<Figure size 432x288 with 1 Axes>"
            ]
          },
          "metadata": {
            "needs_background": "light"
          }
        }
      ]
    },
    {
      "cell_type": "markdown",
      "source": [
        "The output shows the boxplot of height in feet."
      ],
      "metadata": {
        "id": "JJFv_Bux8Upx"
      }
    },
    {
      "cell_type": "markdown",
      "source": [
        "#(e)Computing the mean, standard deviation and five number summary of the height in Feet."
      ],
      "metadata": {
        "id": "F0Wa3DRAhL9_"
      }
    },
    {
      "cell_type": "code",
      "source": [
        "df.Feet.describe()\n"
      ],
      "metadata": {
        "colab": {
          "base_uri": "https://localhost:8080/"
        },
        "id": "IqWcTbxVhSo2",
        "outputId": "079ccffc-2ddb-422a-d501-c08f7fc1b355"
      },
      "execution_count": null,
      "outputs": [
        {
          "output_type": "execute_result",
          "data": {
            "text/plain": [
              "count       14.000000\n",
              "mean     27178.214286\n",
              "std        879.975452\n",
              "min      26335.000000\n",
              "25%      26518.000000\n",
              "50%      26788.000000\n",
              "75%      27914.500000\n",
              "max      29032.000000\n",
              "Name: Feet, dtype: float64"
            ]
          },
          "metadata": {},
          "execution_count": 79
        }
      ]
    },
    {
      "cell_type": "markdown",
      "source": [
        "#(f)Computing the mean and median of mountains when grouped by their Range."
      ],
      "metadata": {
        "id": "pjKNNFlfhcAQ"
      }
    },
    {
      "cell_type": "code",
      "source": [
        "mean = df.groupby('Range').mean()\n",
        "median = df.groupby('Range').median()\n",
        "print(tabulate(mean, headers=[\"Range\", \"Meters_mean\", \"Feet_mean\"], tablefmt=\"psql\"))\n",
        "print(tabulate(median, headers=[\"Range\", \"Meters_median\", \"Feet_median\"], tablefmt=\"psql\"))"
      ],
      "metadata": {
        "colab": {
          "base_uri": "https://localhost:8080/"
        },
        "id": "S4fYT_CHhn22",
        "outputId": "39832915-1007-4ba3-e892-c9db3aca0e4c"
      },
      "execution_count": null,
      "outputs": [
        {
          "output_type": "stream",
          "name": "stdout",
          "text": [
            "+-----------+---------------+-------------+\n",
            "| Range     |   Meters_mean |   Feet_mean |\n",
            "|-----------+---------------+-------------|\n",
            "| Himalayas |       8319.8  |     27295.9 |\n",
            "| Karakoram |       8194.25 |     26884   |\n",
            "+-----------+---------------+-------------+\n",
            "+-----------+-----------------+---------------+\n",
            "| Range     |   Meters_median |   Feet_median |\n",
            "|-----------+-----------------+---------------|\n",
            "| Himalayas |          8177.5 |       26829.5 |\n",
            "| Karakoram |          8065.5 |       26461.5 |\n",
            "+-----------+-----------------+---------------+\n"
          ]
        }
      ]
    },
    {
      "cell_type": "markdown",
      "source": [
        "The output shows the table with mean and median of the mountain when grouped by their range."
      ],
      "metadata": {
        "id": "efUOS08w_1AA"
      }
    },
    {
      "cell_type": "markdown",
      "source": [
        "#Task-2"
      ],
      "metadata": {
        "id": "a8J1vhixmS9z"
      }
    },
    {
      "cell_type": "markdown",
      "source": [
        "Here,\n",
        "\n",
        "I will Use BigQuery public dataset ‘chicago taxi trips.taxi trips’ using the Colab and SQL interface and do the following tasks.\n",
        "\n",
        "\n",
        "(a) Finding the number of rows are in the dataset.\n",
        "\n",
        "\n",
        "(b) Finding the average trip total based on payment type.\n",
        "\n",
        "\n",
        "(c) Finding the number of trips, that had a non-zero recorded time that were above the average time."
      ],
      "metadata": {
        "id": "CHywF_v5h6N2"
      }
    },
    {
      "cell_type": "markdown",
      "source": [
        "For the referance i have used Quiz1.ipynb, Quiz4.ipynb, Quiz7.ipynb from my github page. The link for the refereances are:\n",
        "#WorkCited\n",
        "\n",
        "\n",
        "https://github.com/RujanBhuju/Data-Processing-and-Visualization/blob/main/Quiz1.ipynb\n",
        "\n",
        "https://github.com/RujanBhuju/Data-Processing-and-Visualization/blob/main/Quiz4.ipynb\n",
        "\n",
        "https://github.com/RujanBhuju/Data-Processing-and-Visualization/blob/main/Quiz7.ipynb\n",
        "\n",
        " ``I attest that the resources above were the only ones utilized in completing the exam and the work included is my own and no one else from the course.''\n",
        "\n",
        "\n",
        "\n",
        "Authenticating the database from google cloud.\n"
      ],
      "metadata": {
        "id": "tXEMfAWajByH"
      }
    },
    {
      "cell_type": "code",
      "source": [
        "from google.colab import auth\n",
        "auth.authenticate_user()\n",
        "print('Authenticated')"
      ],
      "metadata": {
        "colab": {
          "base_uri": "https://localhost:8080/"
        },
        "id": "Pohr9eFniXa9",
        "outputId": "c764dc1e-c52d-420f-cb53-047fc0f9d2e3"
      },
      "execution_count": null,
      "outputs": [
        {
          "output_type": "stream",
          "name": "stdout",
          "text": [
            "Authenticated\n"
          ]
        }
      ]
    },
    {
      "cell_type": "markdown",
      "source": [
        "The output shows that the account has been authenticated."
      ],
      "metadata": {
        "id": "_asnMOkR_j3G"
      }
    },
    {
      "cell_type": "markdown",
      "source": [
        "#(a)Computing the number of rows in the dataset?"
      ],
      "metadata": {
        "id": "J4k-CIveixnE"
      }
    },
    {
      "cell_type": "code",
      "source": [
        "%%bigquery --project data-visualization-338800\n",
        "SELECT COUNT(*) as total_rows\n",
        "FROM `bigquery-public-data.chicago_taxi_trips.taxi_trips`"
      ],
      "metadata": {
        "colab": {
          "base_uri": "https://localhost:8080/",
          "height": 81
        },
        "id": "ly-TWhaEiHZR",
        "outputId": "d8041635-bac0-4e2c-8e37-7565b35f70f4"
      },
      "execution_count": null,
      "outputs": [
        {
          "output_type": "execute_result",
          "data": {
            "text/html": [
              "\n",
              "  <div id=\"df-f5a2ae68-08e4-436a-b38e-1eacb33f702b\">\n",
              "    <div class=\"colab-df-container\">\n",
              "      <div>\n",
              "<style scoped>\n",
              "    .dataframe tbody tr th:only-of-type {\n",
              "        vertical-align: middle;\n",
              "    }\n",
              "\n",
              "    .dataframe tbody tr th {\n",
              "        vertical-align: top;\n",
              "    }\n",
              "\n",
              "    .dataframe thead th {\n",
              "        text-align: right;\n",
              "    }\n",
              "</style>\n",
              "<table border=\"1\" class=\"dataframe\">\n",
              "  <thead>\n",
              "    <tr style=\"text-align: right;\">\n",
              "      <th></th>\n",
              "      <th>total_rows</th>\n",
              "    </tr>\n",
              "  </thead>\n",
              "  <tbody>\n",
              "    <tr>\n",
              "      <th>0</th>\n",
              "      <td>198792903</td>\n",
              "    </tr>\n",
              "  </tbody>\n",
              "</table>\n",
              "</div>\n",
              "      <button class=\"colab-df-convert\" onclick=\"convertToInteractive('df-f5a2ae68-08e4-436a-b38e-1eacb33f702b')\"\n",
              "              title=\"Convert this dataframe to an interactive table.\"\n",
              "              style=\"display:none;\">\n",
              "        \n",
              "  <svg xmlns=\"http://www.w3.org/2000/svg\" height=\"24px\"viewBox=\"0 0 24 24\"\n",
              "       width=\"24px\">\n",
              "    <path d=\"M0 0h24v24H0V0z\" fill=\"none\"/>\n",
              "    <path d=\"M18.56 5.44l.94 2.06.94-2.06 2.06-.94-2.06-.94-.94-2.06-.94 2.06-2.06.94zm-11 1L8.5 8.5l.94-2.06 2.06-.94-2.06-.94L8.5 2.5l-.94 2.06-2.06.94zm10 10l.94 2.06.94-2.06 2.06-.94-2.06-.94-.94-2.06-.94 2.06-2.06.94z\"/><path d=\"M17.41 7.96l-1.37-1.37c-.4-.4-.92-.59-1.43-.59-.52 0-1.04.2-1.43.59L10.3 9.45l-7.72 7.72c-.78.78-.78 2.05 0 2.83L4 21.41c.39.39.9.59 1.41.59.51 0 1.02-.2 1.41-.59l7.78-7.78 2.81-2.81c.8-.78.8-2.07 0-2.86zM5.41 20L4 18.59l7.72-7.72 1.47 1.35L5.41 20z\"/>\n",
              "  </svg>\n",
              "      </button>\n",
              "      \n",
              "  <style>\n",
              "    .colab-df-container {\n",
              "      display:flex;\n",
              "      flex-wrap:wrap;\n",
              "      gap: 12px;\n",
              "    }\n",
              "\n",
              "    .colab-df-convert {\n",
              "      background-color: #E8F0FE;\n",
              "      border: none;\n",
              "      border-radius: 50%;\n",
              "      cursor: pointer;\n",
              "      display: none;\n",
              "      fill: #1967D2;\n",
              "      height: 32px;\n",
              "      padding: 0 0 0 0;\n",
              "      width: 32px;\n",
              "    }\n",
              "\n",
              "    .colab-df-convert:hover {\n",
              "      background-color: #E2EBFA;\n",
              "      box-shadow: 0px 1px 2px rgba(60, 64, 67, 0.3), 0px 1px 3px 1px rgba(60, 64, 67, 0.15);\n",
              "      fill: #174EA6;\n",
              "    }\n",
              "\n",
              "    [theme=dark] .colab-df-convert {\n",
              "      background-color: #3B4455;\n",
              "      fill: #D2E3FC;\n",
              "    }\n",
              "\n",
              "    [theme=dark] .colab-df-convert:hover {\n",
              "      background-color: #434B5C;\n",
              "      box-shadow: 0px 1px 3px 1px rgba(0, 0, 0, 0.15);\n",
              "      filter: drop-shadow(0px 1px 2px rgba(0, 0, 0, 0.3));\n",
              "      fill: #FFFFFF;\n",
              "    }\n",
              "  </style>\n",
              "\n",
              "      <script>\n",
              "        const buttonEl =\n",
              "          document.querySelector('#df-f5a2ae68-08e4-436a-b38e-1eacb33f702b button.colab-df-convert');\n",
              "        buttonEl.style.display =\n",
              "          google.colab.kernel.accessAllowed ? 'block' : 'none';\n",
              "\n",
              "        async function convertToInteractive(key) {\n",
              "          const element = document.querySelector('#df-f5a2ae68-08e4-436a-b38e-1eacb33f702b');\n",
              "          const dataTable =\n",
              "            await google.colab.kernel.invokeFunction('convertToInteractive',\n",
              "                                                     [key], {});\n",
              "          if (!dataTable) return;\n",
              "\n",
              "          const docLinkHtml = 'Like what you see? Visit the ' +\n",
              "            '<a target=\"_blank\" href=https://colab.research.google.com/notebooks/data_table.ipynb>data table notebook</a>'\n",
              "            + ' to learn more about interactive tables.';\n",
              "          element.innerHTML = '';\n",
              "          dataTable['output_type'] = 'display_data';\n",
              "          await google.colab.output.renderOutput(dataTable, element);\n",
              "          const docLink = document.createElement('div');\n",
              "          docLink.innerHTML = docLinkHtml;\n",
              "          element.appendChild(docLink);\n",
              "        }\n",
              "      </script>\n",
              "    </div>\n",
              "  </div>\n",
              "  "
            ],
            "text/plain": [
              "   total_rows\n",
              "0   198792903"
            ]
          },
          "metadata": {},
          "execution_count": 82
        }
      ]
    },
    {
      "cell_type": "markdown",
      "source": [
        "The output shows the total number of rows of the given dataset."
      ],
      "metadata": {
        "id": "dNePEpFM9gBS"
      }
    },
    {
      "cell_type": "code",
      "source": [
        "%%bigquery --project data-visualization-338800\n",
        "SELECT *\n",
        "FROM `bigquery-public-data.chicago_taxi_trips.taxi_trips` ##table view\n",
        "LIMIT 4"
      ],
      "metadata": {
        "colab": {
          "base_uri": "https://localhost:8080/",
          "height": 482
        },
        "id": "XJZHjQmvjQnN",
        "outputId": "a18938ee-65ef-48f0-d5ca-84f49c4a83e5"
      },
      "execution_count": null,
      "outputs": [
        {
          "output_type": "execute_result",
          "data": {
            "text/html": [
              "\n",
              "  <div id=\"df-2d553cbc-041c-4e87-8972-02ecaaec85ea\">\n",
              "    <div class=\"colab-df-container\">\n",
              "      <div>\n",
              "<style scoped>\n",
              "    .dataframe tbody tr th:only-of-type {\n",
              "        vertical-align: middle;\n",
              "    }\n",
              "\n",
              "    .dataframe tbody tr th {\n",
              "        vertical-align: top;\n",
              "    }\n",
              "\n",
              "    .dataframe thead th {\n",
              "        text-align: right;\n",
              "    }\n",
              "</style>\n",
              "<table border=\"1\" class=\"dataframe\">\n",
              "  <thead>\n",
              "    <tr style=\"text-align: right;\">\n",
              "      <th></th>\n",
              "      <th>unique_key</th>\n",
              "      <th>taxi_id</th>\n",
              "      <th>trip_start_timestamp</th>\n",
              "      <th>trip_end_timestamp</th>\n",
              "      <th>trip_seconds</th>\n",
              "      <th>trip_miles</th>\n",
              "      <th>pickup_census_tract</th>\n",
              "      <th>dropoff_census_tract</th>\n",
              "      <th>pickup_community_area</th>\n",
              "      <th>dropoff_community_area</th>\n",
              "      <th>fare</th>\n",
              "      <th>tips</th>\n",
              "      <th>tolls</th>\n",
              "      <th>extras</th>\n",
              "      <th>trip_total</th>\n",
              "      <th>payment_type</th>\n",
              "      <th>company</th>\n",
              "      <th>pickup_latitude</th>\n",
              "      <th>pickup_longitude</th>\n",
              "      <th>pickup_location</th>\n",
              "      <th>dropoff_latitude</th>\n",
              "      <th>dropoff_longitude</th>\n",
              "      <th>dropoff_location</th>\n",
              "    </tr>\n",
              "  </thead>\n",
              "  <tbody>\n",
              "    <tr>\n",
              "      <th>0</th>\n",
              "      <td>3190243aa353d190bf2e5f366cd61617fa96f6a8</td>\n",
              "      <td>9d4a0cf00e9283302f40800a5da6e7017db07876ff895d...</td>\n",
              "      <td>2015-08-26 11:15:00+00:00</td>\n",
              "      <td>2015-08-26 11:15:00+00:00</td>\n",
              "      <td>0</td>\n",
              "      <td>0.0</td>\n",
              "      <td>None</td>\n",
              "      <td>None</td>\n",
              "      <td>None</td>\n",
              "      <td>None</td>\n",
              "      <td>5.85</td>\n",
              "      <td>1.46</td>\n",
              "      <td>0.0</td>\n",
              "      <td>0.0</td>\n",
              "      <td>7.31</td>\n",
              "      <td>Credit Card</td>\n",
              "      <td>Chicago Elite Cab Corp. (Chicago Carriag</td>\n",
              "      <td>None</td>\n",
              "      <td>None</td>\n",
              "      <td>None</td>\n",
              "      <td>None</td>\n",
              "      <td>None</td>\n",
              "      <td>None</td>\n",
              "    </tr>\n",
              "    <tr>\n",
              "      <th>1</th>\n",
              "      <td>6d5b6e5f3e5397f08e770beeb5f34433b0491d12</td>\n",
              "      <td>c2ca667849d5b9c2d10a15bf7e6a6ab358ab7a98cce37b...</td>\n",
              "      <td>2014-08-01 21:45:00+00:00</td>\n",
              "      <td>2014-08-01 21:45:00+00:00</td>\n",
              "      <td>0</td>\n",
              "      <td>0.0</td>\n",
              "      <td>None</td>\n",
              "      <td>None</td>\n",
              "      <td>None</td>\n",
              "      <td>None</td>\n",
              "      <td>8.45</td>\n",
              "      <td>0.00</td>\n",
              "      <td>0.0</td>\n",
              "      <td>0.0</td>\n",
              "      <td>8.45</td>\n",
              "      <td>Credit Card</td>\n",
              "      <td>T.A.S. - Payment Only</td>\n",
              "      <td>None</td>\n",
              "      <td>None</td>\n",
              "      <td>None</td>\n",
              "      <td>None</td>\n",
              "      <td>None</td>\n",
              "      <td>None</td>\n",
              "    </tr>\n",
              "    <tr>\n",
              "      <th>2</th>\n",
              "      <td>980c986313ec13a9d59412826c83bfa65e01d0c3</td>\n",
              "      <td>60e9b32a85d0045d670d329891f51b9796543659769e9a...</td>\n",
              "      <td>2014-08-01 18:45:00+00:00</td>\n",
              "      <td>2014-08-01 18:45:00+00:00</td>\n",
              "      <td>0</td>\n",
              "      <td>0.0</td>\n",
              "      <td>None</td>\n",
              "      <td>None</td>\n",
              "      <td>None</td>\n",
              "      <td>None</td>\n",
              "      <td>6.05</td>\n",
              "      <td>2.00</td>\n",
              "      <td>0.0</td>\n",
              "      <td>0.0</td>\n",
              "      <td>8.05</td>\n",
              "      <td>Credit Card</td>\n",
              "      <td>T.A.S. - Payment Only</td>\n",
              "      <td>None</td>\n",
              "      <td>None</td>\n",
              "      <td>None</td>\n",
              "      <td>None</td>\n",
              "      <td>None</td>\n",
              "      <td>None</td>\n",
              "    </tr>\n",
              "    <tr>\n",
              "      <th>3</th>\n",
              "      <td>29aea409062ff5c29c33fecff902acd8e58e5e0f</td>\n",
              "      <td>73f6888d8d8f9808f6624377edfa1e2a0a574b06eafbc9...</td>\n",
              "      <td>2014-07-31 09:45:00+00:00</td>\n",
              "      <td>2014-07-31 09:45:00+00:00</td>\n",
              "      <td>0</td>\n",
              "      <td>0.0</td>\n",
              "      <td>None</td>\n",
              "      <td>None</td>\n",
              "      <td>None</td>\n",
              "      <td>None</td>\n",
              "      <td>10.05</td>\n",
              "      <td>2.01</td>\n",
              "      <td>0.0</td>\n",
              "      <td>0.0</td>\n",
              "      <td>12.06</td>\n",
              "      <td>Credit Card</td>\n",
              "      <td>Chicago Elite Cab Corp. (Chicago Carriag</td>\n",
              "      <td>None</td>\n",
              "      <td>None</td>\n",
              "      <td>None</td>\n",
              "      <td>None</td>\n",
              "      <td>None</td>\n",
              "      <td>None</td>\n",
              "    </tr>\n",
              "  </tbody>\n",
              "</table>\n",
              "</div>\n",
              "      <button class=\"colab-df-convert\" onclick=\"convertToInteractive('df-2d553cbc-041c-4e87-8972-02ecaaec85ea')\"\n",
              "              title=\"Convert this dataframe to an interactive table.\"\n",
              "              style=\"display:none;\">\n",
              "        \n",
              "  <svg xmlns=\"http://www.w3.org/2000/svg\" height=\"24px\"viewBox=\"0 0 24 24\"\n",
              "       width=\"24px\">\n",
              "    <path d=\"M0 0h24v24H0V0z\" fill=\"none\"/>\n",
              "    <path d=\"M18.56 5.44l.94 2.06.94-2.06 2.06-.94-2.06-.94-.94-2.06-.94 2.06-2.06.94zm-11 1L8.5 8.5l.94-2.06 2.06-.94-2.06-.94L8.5 2.5l-.94 2.06-2.06.94zm10 10l.94 2.06.94-2.06 2.06-.94-2.06-.94-.94-2.06-.94 2.06-2.06.94z\"/><path d=\"M17.41 7.96l-1.37-1.37c-.4-.4-.92-.59-1.43-.59-.52 0-1.04.2-1.43.59L10.3 9.45l-7.72 7.72c-.78.78-.78 2.05 0 2.83L4 21.41c.39.39.9.59 1.41.59.51 0 1.02-.2 1.41-.59l7.78-7.78 2.81-2.81c.8-.78.8-2.07 0-2.86zM5.41 20L4 18.59l7.72-7.72 1.47 1.35L5.41 20z\"/>\n",
              "  </svg>\n",
              "      </button>\n",
              "      \n",
              "  <style>\n",
              "    .colab-df-container {\n",
              "      display:flex;\n",
              "      flex-wrap:wrap;\n",
              "      gap: 12px;\n",
              "    }\n",
              "\n",
              "    .colab-df-convert {\n",
              "      background-color: #E8F0FE;\n",
              "      border: none;\n",
              "      border-radius: 50%;\n",
              "      cursor: pointer;\n",
              "      display: none;\n",
              "      fill: #1967D2;\n",
              "      height: 32px;\n",
              "      padding: 0 0 0 0;\n",
              "      width: 32px;\n",
              "    }\n",
              "\n",
              "    .colab-df-convert:hover {\n",
              "      background-color: #E2EBFA;\n",
              "      box-shadow: 0px 1px 2px rgba(60, 64, 67, 0.3), 0px 1px 3px 1px rgba(60, 64, 67, 0.15);\n",
              "      fill: #174EA6;\n",
              "    }\n",
              "\n",
              "    [theme=dark] .colab-df-convert {\n",
              "      background-color: #3B4455;\n",
              "      fill: #D2E3FC;\n",
              "    }\n",
              "\n",
              "    [theme=dark] .colab-df-convert:hover {\n",
              "      background-color: #434B5C;\n",
              "      box-shadow: 0px 1px 3px 1px rgba(0, 0, 0, 0.15);\n",
              "      filter: drop-shadow(0px 1px 2px rgba(0, 0, 0, 0.3));\n",
              "      fill: #FFFFFF;\n",
              "    }\n",
              "  </style>\n",
              "\n",
              "      <script>\n",
              "        const buttonEl =\n",
              "          document.querySelector('#df-2d553cbc-041c-4e87-8972-02ecaaec85ea button.colab-df-convert');\n",
              "        buttonEl.style.display =\n",
              "          google.colab.kernel.accessAllowed ? 'block' : 'none';\n",
              "\n",
              "        async function convertToInteractive(key) {\n",
              "          const element = document.querySelector('#df-2d553cbc-041c-4e87-8972-02ecaaec85ea');\n",
              "          const dataTable =\n",
              "            await google.colab.kernel.invokeFunction('convertToInteractive',\n",
              "                                                     [key], {});\n",
              "          if (!dataTable) return;\n",
              "\n",
              "          const docLinkHtml = 'Like what you see? Visit the ' +\n",
              "            '<a target=\"_blank\" href=https://colab.research.google.com/notebooks/data_table.ipynb>data table notebook</a>'\n",
              "            + ' to learn more about interactive tables.';\n",
              "          element.innerHTML = '';\n",
              "          dataTable['output_type'] = 'display_data';\n",
              "          await google.colab.output.renderOutput(dataTable, element);\n",
              "          const docLink = document.createElement('div');\n",
              "          docLink.innerHTML = docLinkHtml;\n",
              "          element.appendChild(docLink);\n",
              "        }\n",
              "      </script>\n",
              "    </div>\n",
              "  </div>\n",
              "  "
            ],
            "text/plain": [
              "                                 unique_key  ... dropoff_location\n",
              "0  3190243aa353d190bf2e5f366cd61617fa96f6a8  ...             None\n",
              "1  6d5b6e5f3e5397f08e770beeb5f34433b0491d12  ...             None\n",
              "2  980c986313ec13a9d59412826c83bfa65e01d0c3  ...             None\n",
              "3  29aea409062ff5c29c33fecff902acd8e58e5e0f  ...             None\n",
              "\n",
              "[4 rows x 23 columns]"
            ]
          },
          "metadata": {},
          "execution_count": 83
        }
      ]
    },
    {
      "cell_type": "markdown",
      "source": [
        "#(b)Computing the average trip_total based on payment_type.\n"
      ],
      "metadata": {
        "id": "fIgNH9N1kboD"
      }
    },
    {
      "cell_type": "code",
      "source": [
        "%%bigquery --project data-visualization-338800\n",
        "SELECT payment_type as payment_type, AVG(trip_total) as avg_trips\n",
        "FROM `bigquery-public-data.chicago_taxi_trips.taxi_trips`\n",
        "GROUP BY payment_type"
      ],
      "metadata": {
        "colab": {
          "base_uri": "https://localhost:8080/",
          "height": 394
        },
        "id": "QsPoZt3mkEbj",
        "outputId": "720bd07f-ae52-4434-e193-d20a7adedd47"
      },
      "execution_count": null,
      "outputs": [
        {
          "output_type": "execute_result",
          "data": {
            "text/html": [
              "\n",
              "  <div id=\"df-10567624-f16f-43e7-a25f-bae40190371b\">\n",
              "    <div class=\"colab-df-container\">\n",
              "      <div>\n",
              "<style scoped>\n",
              "    .dataframe tbody tr th:only-of-type {\n",
              "        vertical-align: middle;\n",
              "    }\n",
              "\n",
              "    .dataframe tbody tr th {\n",
              "        vertical-align: top;\n",
              "    }\n",
              "\n",
              "    .dataframe thead th {\n",
              "        text-align: right;\n",
              "    }\n",
              "</style>\n",
              "<table border=\"1\" class=\"dataframe\">\n",
              "  <thead>\n",
              "    <tr style=\"text-align: right;\">\n",
              "      <th></th>\n",
              "      <th>payment_type</th>\n",
              "      <th>avg_trips</th>\n",
              "    </tr>\n",
              "  </thead>\n",
              "  <tbody>\n",
              "    <tr>\n",
              "      <th>0</th>\n",
              "      <td>Unknown</td>\n",
              "      <td>17.649893</td>\n",
              "    </tr>\n",
              "    <tr>\n",
              "      <th>1</th>\n",
              "      <td>Mobile</td>\n",
              "      <td>20.339910</td>\n",
              "    </tr>\n",
              "    <tr>\n",
              "      <th>2</th>\n",
              "      <td>Cash</td>\n",
              "      <td>12.265548</td>\n",
              "    </tr>\n",
              "    <tr>\n",
              "      <th>3</th>\n",
              "      <td>No Charge</td>\n",
              "      <td>15.836177</td>\n",
              "    </tr>\n",
              "    <tr>\n",
              "      <th>4</th>\n",
              "      <td>Dispute</td>\n",
              "      <td>15.496588</td>\n",
              "    </tr>\n",
              "    <tr>\n",
              "      <th>5</th>\n",
              "      <td>Pcard</td>\n",
              "      <td>10.116931</td>\n",
              "    </tr>\n",
              "    <tr>\n",
              "      <th>6</th>\n",
              "      <td>Prepaid</td>\n",
              "      <td>22.377662</td>\n",
              "    </tr>\n",
              "    <tr>\n",
              "      <th>7</th>\n",
              "      <td>Way2ride</td>\n",
              "      <td>16.639366</td>\n",
              "    </tr>\n",
              "    <tr>\n",
              "      <th>8</th>\n",
              "      <td>Split</td>\n",
              "      <td>18.788039</td>\n",
              "    </tr>\n",
              "    <tr>\n",
              "      <th>9</th>\n",
              "      <td>Credit Card</td>\n",
              "      <td>20.524892</td>\n",
              "    </tr>\n",
              "    <tr>\n",
              "      <th>10</th>\n",
              "      <td>Prcard</td>\n",
              "      <td>20.320682</td>\n",
              "    </tr>\n",
              "  </tbody>\n",
              "</table>\n",
              "</div>\n",
              "      <button class=\"colab-df-convert\" onclick=\"convertToInteractive('df-10567624-f16f-43e7-a25f-bae40190371b')\"\n",
              "              title=\"Convert this dataframe to an interactive table.\"\n",
              "              style=\"display:none;\">\n",
              "        \n",
              "  <svg xmlns=\"http://www.w3.org/2000/svg\" height=\"24px\"viewBox=\"0 0 24 24\"\n",
              "       width=\"24px\">\n",
              "    <path d=\"M0 0h24v24H0V0z\" fill=\"none\"/>\n",
              "    <path d=\"M18.56 5.44l.94 2.06.94-2.06 2.06-.94-2.06-.94-.94-2.06-.94 2.06-2.06.94zm-11 1L8.5 8.5l.94-2.06 2.06-.94-2.06-.94L8.5 2.5l-.94 2.06-2.06.94zm10 10l.94 2.06.94-2.06 2.06-.94-2.06-.94-.94-2.06-.94 2.06-2.06.94z\"/><path d=\"M17.41 7.96l-1.37-1.37c-.4-.4-.92-.59-1.43-.59-.52 0-1.04.2-1.43.59L10.3 9.45l-7.72 7.72c-.78.78-.78 2.05 0 2.83L4 21.41c.39.39.9.59 1.41.59.51 0 1.02-.2 1.41-.59l7.78-7.78 2.81-2.81c.8-.78.8-2.07 0-2.86zM5.41 20L4 18.59l7.72-7.72 1.47 1.35L5.41 20z\"/>\n",
              "  </svg>\n",
              "      </button>\n",
              "      \n",
              "  <style>\n",
              "    .colab-df-container {\n",
              "      display:flex;\n",
              "      flex-wrap:wrap;\n",
              "      gap: 12px;\n",
              "    }\n",
              "\n",
              "    .colab-df-convert {\n",
              "      background-color: #E8F0FE;\n",
              "      border: none;\n",
              "      border-radius: 50%;\n",
              "      cursor: pointer;\n",
              "      display: none;\n",
              "      fill: #1967D2;\n",
              "      height: 32px;\n",
              "      padding: 0 0 0 0;\n",
              "      width: 32px;\n",
              "    }\n",
              "\n",
              "    .colab-df-convert:hover {\n",
              "      background-color: #E2EBFA;\n",
              "      box-shadow: 0px 1px 2px rgba(60, 64, 67, 0.3), 0px 1px 3px 1px rgba(60, 64, 67, 0.15);\n",
              "      fill: #174EA6;\n",
              "    }\n",
              "\n",
              "    [theme=dark] .colab-df-convert {\n",
              "      background-color: #3B4455;\n",
              "      fill: #D2E3FC;\n",
              "    }\n",
              "\n",
              "    [theme=dark] .colab-df-convert:hover {\n",
              "      background-color: #434B5C;\n",
              "      box-shadow: 0px 1px 3px 1px rgba(0, 0, 0, 0.15);\n",
              "      filter: drop-shadow(0px 1px 2px rgba(0, 0, 0, 0.3));\n",
              "      fill: #FFFFFF;\n",
              "    }\n",
              "  </style>\n",
              "\n",
              "      <script>\n",
              "        const buttonEl =\n",
              "          document.querySelector('#df-10567624-f16f-43e7-a25f-bae40190371b button.colab-df-convert');\n",
              "        buttonEl.style.display =\n",
              "          google.colab.kernel.accessAllowed ? 'block' : 'none';\n",
              "\n",
              "        async function convertToInteractive(key) {\n",
              "          const element = document.querySelector('#df-10567624-f16f-43e7-a25f-bae40190371b');\n",
              "          const dataTable =\n",
              "            await google.colab.kernel.invokeFunction('convertToInteractive',\n",
              "                                                     [key], {});\n",
              "          if (!dataTable) return;\n",
              "\n",
              "          const docLinkHtml = 'Like what you see? Visit the ' +\n",
              "            '<a target=\"_blank\" href=https://colab.research.google.com/notebooks/data_table.ipynb>data table notebook</a>'\n",
              "            + ' to learn more about interactive tables.';\n",
              "          element.innerHTML = '';\n",
              "          dataTable['output_type'] = 'display_data';\n",
              "          await google.colab.output.renderOutput(dataTable, element);\n",
              "          const docLink = document.createElement('div');\n",
              "          docLink.innerHTML = docLinkHtml;\n",
              "          element.appendChild(docLink);\n",
              "        }\n",
              "      </script>\n",
              "    </div>\n",
              "  </div>\n",
              "  "
            ],
            "text/plain": [
              "   payment_type  avg_trips\n",
              "0       Unknown  17.649893\n",
              "1        Mobile  20.339910\n",
              "2          Cash  12.265548\n",
              "3     No Charge  15.836177\n",
              "4       Dispute  15.496588\n",
              "5         Pcard  10.116931\n",
              "6       Prepaid  22.377662\n",
              "7      Way2ride  16.639366\n",
              "8         Split  18.788039\n",
              "9   Credit Card  20.524892\n",
              "10       Prcard  20.320682"
            ]
          },
          "metadata": {},
          "execution_count": 84
        }
      ]
    },
    {
      "cell_type": "markdown",
      "source": [
        "The output shows a table with the total average trip and the payment time."
      ],
      "metadata": {
        "id": "kHUgSg7Z_Fak"
      }
    },
    {
      "cell_type": "markdown",
      "source": [
        "#(c)Computing the number of trips that had a non-zero recorded time which were above the average time."
      ],
      "metadata": {
        "id": "kRNtCUegjtde"
      }
    },
    {
      "cell_type": "code",
      "source": [
        "%%bigquery --project data-visualization-338800\n",
        "SELECT COUNT(*) as nonZero_trips_above_avg_time\n",
        "FROM `bigquery-public-data.chicago_taxi_trips.taxi_trips`\n",
        "WHERE trip_seconds != 0 AND trip_seconds > (SELECT AVG(trip_seconds) as avg_time FROM `bigquery-public-data.chicago_taxi_trips.taxi_trips`)"
      ],
      "metadata": {
        "colab": {
          "base_uri": "https://localhost:8080/",
          "height": 81
        },
        "id": "p9E5cYgWkrth",
        "outputId": "dfb1f070-99dd-4ae1-b046-dc1fad070d3d"
      },
      "execution_count": null,
      "outputs": [
        {
          "output_type": "execute_result",
          "data": {
            "text/html": [
              "\n",
              "  <div id=\"df-ca3da3e1-fc94-48e5-814e-83e854cc10ab\">\n",
              "    <div class=\"colab-df-container\">\n",
              "      <div>\n",
              "<style scoped>\n",
              "    .dataframe tbody tr th:only-of-type {\n",
              "        vertical-align: middle;\n",
              "    }\n",
              "\n",
              "    .dataframe tbody tr th {\n",
              "        vertical-align: top;\n",
              "    }\n",
              "\n",
              "    .dataframe thead th {\n",
              "        text-align: right;\n",
              "    }\n",
              "</style>\n",
              "<table border=\"1\" class=\"dataframe\">\n",
              "  <thead>\n",
              "    <tr style=\"text-align: right;\">\n",
              "      <th></th>\n",
              "      <th>nonZero_trips_above_avg_time</th>\n",
              "    </tr>\n",
              "  </thead>\n",
              "  <tbody>\n",
              "    <tr>\n",
              "      <th>0</th>\n",
              "      <td>62143014</td>\n",
              "    </tr>\n",
              "  </tbody>\n",
              "</table>\n",
              "</div>\n",
              "      <button class=\"colab-df-convert\" onclick=\"convertToInteractive('df-ca3da3e1-fc94-48e5-814e-83e854cc10ab')\"\n",
              "              title=\"Convert this dataframe to an interactive table.\"\n",
              "              style=\"display:none;\">\n",
              "        \n",
              "  <svg xmlns=\"http://www.w3.org/2000/svg\" height=\"24px\"viewBox=\"0 0 24 24\"\n",
              "       width=\"24px\">\n",
              "    <path d=\"M0 0h24v24H0V0z\" fill=\"none\"/>\n",
              "    <path d=\"M18.56 5.44l.94 2.06.94-2.06 2.06-.94-2.06-.94-.94-2.06-.94 2.06-2.06.94zm-11 1L8.5 8.5l.94-2.06 2.06-.94-2.06-.94L8.5 2.5l-.94 2.06-2.06.94zm10 10l.94 2.06.94-2.06 2.06-.94-2.06-.94-.94-2.06-.94 2.06-2.06.94z\"/><path d=\"M17.41 7.96l-1.37-1.37c-.4-.4-.92-.59-1.43-.59-.52 0-1.04.2-1.43.59L10.3 9.45l-7.72 7.72c-.78.78-.78 2.05 0 2.83L4 21.41c.39.39.9.59 1.41.59.51 0 1.02-.2 1.41-.59l7.78-7.78 2.81-2.81c.8-.78.8-2.07 0-2.86zM5.41 20L4 18.59l7.72-7.72 1.47 1.35L5.41 20z\"/>\n",
              "  </svg>\n",
              "      </button>\n",
              "      \n",
              "  <style>\n",
              "    .colab-df-container {\n",
              "      display:flex;\n",
              "      flex-wrap:wrap;\n",
              "      gap: 12px;\n",
              "    }\n",
              "\n",
              "    .colab-df-convert {\n",
              "      background-color: #E8F0FE;\n",
              "      border: none;\n",
              "      border-radius: 50%;\n",
              "      cursor: pointer;\n",
              "      display: none;\n",
              "      fill: #1967D2;\n",
              "      height: 32px;\n",
              "      padding: 0 0 0 0;\n",
              "      width: 32px;\n",
              "    }\n",
              "\n",
              "    .colab-df-convert:hover {\n",
              "      background-color: #E2EBFA;\n",
              "      box-shadow: 0px 1px 2px rgba(60, 64, 67, 0.3), 0px 1px 3px 1px rgba(60, 64, 67, 0.15);\n",
              "      fill: #174EA6;\n",
              "    }\n",
              "\n",
              "    [theme=dark] .colab-df-convert {\n",
              "      background-color: #3B4455;\n",
              "      fill: #D2E3FC;\n",
              "    }\n",
              "\n",
              "    [theme=dark] .colab-df-convert:hover {\n",
              "      background-color: #434B5C;\n",
              "      box-shadow: 0px 1px 3px 1px rgba(0, 0, 0, 0.15);\n",
              "      filter: drop-shadow(0px 1px 2px rgba(0, 0, 0, 0.3));\n",
              "      fill: #FFFFFF;\n",
              "    }\n",
              "  </style>\n",
              "\n",
              "      <script>\n",
              "        const buttonEl =\n",
              "          document.querySelector('#df-ca3da3e1-fc94-48e5-814e-83e854cc10ab button.colab-df-convert');\n",
              "        buttonEl.style.display =\n",
              "          google.colab.kernel.accessAllowed ? 'block' : 'none';\n",
              "\n",
              "        async function convertToInteractive(key) {\n",
              "          const element = document.querySelector('#df-ca3da3e1-fc94-48e5-814e-83e854cc10ab');\n",
              "          const dataTable =\n",
              "            await google.colab.kernel.invokeFunction('convertToInteractive',\n",
              "                                                     [key], {});\n",
              "          if (!dataTable) return;\n",
              "\n",
              "          const docLinkHtml = 'Like what you see? Visit the ' +\n",
              "            '<a target=\"_blank\" href=https://colab.research.google.com/notebooks/data_table.ipynb>data table notebook</a>'\n",
              "            + ' to learn more about interactive tables.';\n",
              "          element.innerHTML = '';\n",
              "          dataTable['output_type'] = 'display_data';\n",
              "          await google.colab.output.renderOutput(dataTable, element);\n",
              "          const docLink = document.createElement('div');\n",
              "          docLink.innerHTML = docLinkHtml;\n",
              "          element.appendChild(docLink);\n",
              "        }\n",
              "      </script>\n",
              "    </div>\n",
              "  </div>\n",
              "  "
            ],
            "text/plain": [
              "   nonZero_trips_above_avg_time\n",
              "0                      62143014"
            ]
          },
          "metadata": {},
          "execution_count": 61
        }
      ]
    },
    {
      "cell_type": "markdown",
      "source": [
        "The output shows the number of trips that had a non-zero recorded time which were above the average time.\n",
        "\n"
      ],
      "metadata": {
        "id": "LHlML0Oh_V0F"
      }
    },
    {
      "cell_type": "markdown",
      "source": [
        "#Task-3"
      ],
      "metadata": {
        "id": "eeONQvthqwwj"
      }
    },
    {
      "cell_type": "markdown",
      "source": [
        "(a)Approximately how long did you work on this exam?\n",
        "\n",
        "To complete the whole task it took me around 3 hours. the time i was coding was probably 2 hours. most of the time was spent on opening my previous quizzes to see the codes for referance. i also spent some time googling as i had some issues in some questions.\n",
        "\n",
        "\n",
        "(b) Which was the hardest and easiest topic from this section?\n",
        "\n",
        "The hardest topic from this section was to calculate the nonZero_trips_above_avg_time and the easiest was to calculate the number of rows.\n",
        "\n",
        "(c) Which method of gathering data are you most excited to use again?\n",
        "\n",
        "I am most excited about the web scrapping and SQL.\n"
      ],
      "metadata": {
        "id": "jy7EbtRIqt2m"
      }
    }
  ]
}