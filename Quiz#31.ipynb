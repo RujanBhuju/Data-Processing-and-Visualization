{
  "nbformat": 4,
  "nbformat_minor": 0,
  "metadata": {
    "colab": {
      "name": "Quiz#31.ipynb",
      "provenance": [],
      "collapsed_sections": [],
      "authorship_tag": "ABX9TyOj/YNnd0cA70L8ECtjvmMp",
      "include_colab_link": true
    },
    "kernelspec": {
      "name": "python3",
      "display_name": "Python 3"
    },
    "language_info": {
      "name": "python"
    }
  },
  "cells": [
    {
      "cell_type": "markdown",
      "metadata": {
        "id": "view-in-github",
        "colab_type": "text"
      },
      "source": [
        "<a href=\"https://colab.research.google.com/github/RujanBhuju/Data-Processing-and-Visualization/blob/main/Quiz%2331.ipynb\" target=\"_parent\"><img src=\"https://colab.research.google.com/assets/colab-badge.svg\" alt=\"Open In Colab\"/></a>"
      ]
    },
    {
      "cell_type": "markdown",
      "source": [
        "#CPSMA-4313-01\n",
        "\n",
        "\n",
        "#Dr Jacob's Data Processing Visualization\n",
        "\n",
        "\n",
        "#Rujan Bhuju(0268963)"
      ],
      "metadata": {
        "id": "yeEct73jLgYn"
      }
    },
    {
      "cell_type": "markdown",
      "source": [
        "What idea do you have for a report on a timely topic to look at data visualizations for?  Do you think you can find 3 stories about it that include visualizations?  Why are you interested in the topic?"
      ],
      "metadata": {
        "id": "6THIjlUOL_Ev"
      }
    }
  ]
}