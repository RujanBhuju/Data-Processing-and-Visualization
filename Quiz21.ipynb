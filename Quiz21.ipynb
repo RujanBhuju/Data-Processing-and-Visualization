{
  "nbformat": 4,
  "nbformat_minor": 0,
  "metadata": {
    "colab": {
      "name": "Quiz21.ipynb",
      "provenance": [],
      "collapsed_sections": [],
      "authorship_tag": "ABX9TyM5E9ykgjONR/hzLnDDXxEA",
      "include_colab_link": true
    },
    "kernelspec": {
      "name": "python3",
      "display_name": "Python 3"
    },
    "language_info": {
      "name": "python"
    }
  },
  "cells": [
    {
      "cell_type": "markdown",
      "metadata": {
        "id": "view-in-github",
        "colab_type": "text"
      },
      "source": [
        "<a href=\"https://colab.research.google.com/github/RujanBhuju/Data-Processing-and-Visualization/blob/main/Quiz21.ipynb\" target=\"_parent\"><img src=\"https://colab.research.google.com/assets/colab-badge.svg\" alt=\"Open In Colab\"/></a>"
      ]
    },
    {
      "cell_type": "markdown",
      "source": [
        "#CPSMA-4313-01\n",
        "\n",
        "#Dr Jacob's Data Processing Visualization\n",
        "\n",
        "#Rujan Bhuju(268963)\n",
        "\n"
      ],
      "metadata": {
        "id": "bPUmxxRzcgUO"
      }
    },
    {
      "cell_type": "markdown",
      "source": [
        "Here, i will Examine John Snow's map of cholera outbreak in 1854 and Discuss the highlights of the graph and also i will be Finding a modern reference and dicuss the excellence displayed in the map. "
      ],
      "metadata": {
        "id": "AV3DgzoY0qmZ"
      }
    },
    {
      "cell_type": "markdown",
      "source": [
        "![john Snow](https://upload.wikimedia.org/wikipedia/commons/2/27/Snow-cholera-map-1.jpg)"
      ],
      "metadata": {
        "id": "ii6M48knxJs8"
      }
    },
    {
      "cell_type": "markdown",
      "source": [
        "The given maps illustrate the map of the cholera outbreak in 1854. As in most maps, there are street names and special places like Golden square and Soho square. There are lots of blocks rising in varying heights in the different streets on the map. Since the height is varying, we can assume it represents some points. These blocks represent the severeness of cholera. The map illustrates that something big has happened at the corner of Broad and Cambridge as there are lots of those blocks. There are lots of pumps on the map which I think is representing the water sources. The water pump sitting at the Broad and Cambridge has contaminated its water. I think it is the place where the outbreak started since the tower of blocks is very dense and high in that area. By looking at the map we can see there is a clear relationship between the water source and the severeness of the outbreak. "
      ],
      "metadata": {
        "id": "1ZACmXyl0an4"
      }
    }
  ]
}