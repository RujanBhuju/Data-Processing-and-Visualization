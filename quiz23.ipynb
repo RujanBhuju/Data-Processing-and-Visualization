{
  "nbformat": 4,
  "nbformat_minor": 0,
  "metadata": {
    "colab": {
      "name": "quiz23.ipynb",
      "provenance": [],
      "collapsed_sections": [],
      "authorship_tag": "ABX9TyOMUM0Ly26FEWwrHHvqywp+",
      "include_colab_link": true
    },
    "kernelspec": {
      "name": "python3",
      "display_name": "Python 3"
    },
    "language_info": {
      "name": "python"
    }
  },
  "cells": [
    {
      "cell_type": "markdown",
      "metadata": {
        "id": "view-in-github",
        "colab_type": "text"
      },
      "source": [
        "<a href=\"https://colab.research.google.com/github/RujanBhuju/Data-Processing-and-Visualization/blob/main/quiz23.ipynb\" target=\"_parent\"><img src=\"https://colab.research.google.com/assets/colab-badge.svg\" alt=\"Open In Colab\"/></a>"
      ]
    },
    {
      "cell_type": "markdown",
      "source": [
        "#CPSMA-4313-01\n",
        "\n",
        "#Dr Jacob's Data Processing Visualization\n",
        "\n",
        "#Rujan Bhuju(268963)"
      ],
      "metadata": {
        "id": "Qa0jK131L0dU"
      }
    },
    {
      "cell_type": "markdown",
      "source": [
        "Here, i am going to find two charts that were not discussed during class today and examine them for graphical excellence, sophistication and integrity. the link for the charts is https://viz.wtf/"
      ],
      "metadata": {
        "id": "hkVf_nvDL8-N"
      }
    },
    {
      "cell_type": "markdown",
      "source": [
        "![](https://64.media.tumblr.com/fdcfe01f60454d9eeab45e178fb11252/tumblr_qlfoykaNrx1sgh0voo1_1280.jpg)\n",
        "\n",
        "Here the given chart `illustrates that the percentage increase in petrol prices was 13 percent between 2014 and 2018, which is a drop in the rate when compared to the jump of 75.8 percent between 2009 10 2014. Here even if the price is going up in 2018 the height of the bar is not going up instead the height of the bar is decreasing. The chart is clearly trying to deceive the viewers that the prices are going down but in reality, it’s going up. Colors play a vital role in making some decisions. The way the color is used is also fascinating. All the increased years are codded green while the bar that is deceiving is using yellow color. The arrow used in the chart is also tricky. Even if the price is going up the arrow is facing down. Overall, the chart is trying to convey a false message."
      ],
      "metadata": {
        "id": "sXZTChYlLQ8u"
      }
    },
    {
      "cell_type": "markdown",
      "source": [
        "![](https://64.media.tumblr.com/33c3e7e0e29ad852b247e1b7883976bb/0f42df24c8d0dca9-17/s1280x1920/ae291ea59201c16a9130b5f719400c75318cd5ad.jpg)\n",
        "\n",
        "\n",
        "Here the given chart is demonstrating a petition to stop the Chinese communist government’s deception and manipulation. The required total number of petitions was 450,000 but they have already reached the 500,002 marks. However, the chart is trying to deceive the viewers as the loading part is still shown unfulfilled. The chart is trying to show that the number of petitions has not been fulfilled while in reality if we look at the numbers the required quota for petitions has already been fulfilled. Color is also playing an important role. Everything on the chart is read except the word “Communist China”. Thus, the chart is demonstrating false information."
      ],
      "metadata": {
        "id": "h3Kt3HlZK8n0"
      }
    }
  ]
}