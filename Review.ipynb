{
  "nbformat": 4,
  "nbformat_minor": 0,
  "metadata": {
    "colab": {
      "name": "Review.ipynb",
      "provenance": [],
      "collapsed_sections": [],
      "authorship_tag": "ABX9TyP5LXKZrucK0+6UeKzL/EmZ",
      "include_colab_link": true
    },
    "kernelspec": {
      "name": "python3",
      "display_name": "Python 3"
    },
    "language_info": {
      "name": "python"
    }
  },
  "cells": [
    {
      "cell_type": "markdown",
      "metadata": {
        "id": "view-in-github",
        "colab_type": "text"
      },
      "source": [
        "<a href=\"https://colab.research.google.com/github/RujanBhuju/Data-Processing-and-Visualization/blob/main/Review.ipynb\" target=\"_parent\"><img src=\"https://colab.research.google.com/assets/colab-badge.svg\" alt=\"Open In Colab\"/></a>"
      ]
    },
    {
      "cell_type": "markdown",
      "source": [
        "#CPSMA-4313-01\n",
        "\n",
        "\n",
        "#Dr. Jacob's Data Processing Visualization\n",
        "\n",
        "\n",
        "#Rujan Bhuju(0268963)\n",
        "\n",
        "\n",
        "#Pandemic and Jobs\n"
      ],
      "metadata": {
        "id": "RB38ilR9gokF"
      }
    },
    {
      "cell_type": "markdown",
      "source": [
        "We all have experienced the effects of the pandemic. The topic I have selected is the effects of the pandemic on USA jobs, especially in the tech industry.  I am interested in this topic because I am also a computer major, and I have been looking for internships this semester. Since I am a computer science major, I wanted to share that the field we are pursuing is growing rapidly and the demand for tech workers is increasing day by day.  The tech industry continues to grow rapidly even after the pandemic. Not all jobs have experienced the same effects as the tech industry. The demand for the other fields like sales and marketing, creative and multimedia has decreased significantly. The companies are cutting the nonessential workers because of the pandemic however there is still a rise in the demand for the tech jobs.\n",
        "I think that the visualization that I will find will display the trends of the jobs, especially after the hit of the pandemic. I think the visualization will display the effects of the pandemic on the USA economy. I also think that the visualizations will display the rise in demand for tech jobs and the decline in some other fields of job. I hope to see a rapid rise in the demand for IT jobs after the pandemic. The visualization might display a decrease in the participation of the workers because I have seen a lot of places closed or compromised due to lack of workers. \n",
        "I am hoping to learn about the trending jobs in the current days. I have been hearing a lot about the effects of the pandemic on jobs. There has been a significant change in the demands of the workers after the pandemic. I will be looking for jobs in a few weeks so having good knowledge about the trending jobs might help me and my peers to make a better career decision.\n"
      ],
      "metadata": {
        "id": "XvqU0KyyhTJQ"
      }
    }
  ]
}