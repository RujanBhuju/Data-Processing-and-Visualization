{
  "nbformat": 4,
  "nbformat_minor": 0,
  "metadata": {
    "colab": {
      "name": "Recreate.ipynb",
      "provenance": [],
      "collapsed_sections": [],
      "authorship_tag": "ABX9TyO3ugWzrUJdmQg7nvJQkHTF",
      "include_colab_link": true
    },
    "kernelspec": {
      "name": "python3",
      "display_name": "Python 3"
    },
    "language_info": {
      "name": "python"
    }
  },
  "cells": [
    {
      "cell_type": "markdown",
      "metadata": {
        "id": "view-in-github",
        "colab_type": "text"
      },
      "source": [
        "<a href=\"https://colab.research.google.com/github/RujanBhuju/Data-Processing-and-Visualization/blob/main/Recreate.ipynb\" target=\"_parent\"><img src=\"https://colab.research.google.com/assets/colab-badge.svg\" alt=\"Open In Colab\"/></a>"
      ]
    },
    {
      "cell_type": "markdown",
      "source": [
        "#CPSMA-4313-01\n",
        "\n",
        "#Dr. Jacob's Data Processing Visualization\n",
        "\n",
        "#Rujan Bhuju(268963)\n",
        "\n",
        "#Recreate Project Proposal.\n"
      ],
      "metadata": {
        "id": "QiiN71s6iKmy"
      }
    },
    {
      "cell_type": "markdown",
      "source": [
        "Visualization link = https://fred.stlouisfed.org/graph/?g=3obN"
      ],
      "metadata": {
        "id": "QOsokfFJiP75"
      }
    },
    {
      "cell_type": "markdown",
      "source": [
        "![](https://i.ibb.co/2PRq1dM/fredgraph.png)"
      ],
      "metadata": {
        "id": "bJYZh6GQlSbf"
      }
    },
    {
      "cell_type": "markdown",
      "source": [
        "Dataset link = https://fred.stlouisfed.org/graph/fredgraph.csv?bgcolor=%23e1e9f0&chart_type=line&drp=0&fo=open%20sans&graph_bgcolor=%23ffffff&height=445&mode=fred&recession_bars=on&txtcolor=%23444444&ts=12&tts=12&width=1168&nt=0&thu=0&trc=0&show_legend=yes&show_axis_titles=yes&show_tooltip=yes&id=UNRATE,CPIAUCSL&scale=left,left&cosd=1948-01-01,1948-01-01&coed=2022-03-01,2022-03-01&line_color=%234572a7,%23aa4643&link_values=false,false&line_style=solid,solid&mark_type=none,none&mw=1,2&lw=2,2&ost=-99999,-99999&oet=99999,99999&mma=0,0&fml=a,a&fq=Monthly,Monthly&fam=avg,avg&fgst=lin,lin&fgsnd=2007-12-01,2007-12-01&line_index=1,2&transformation=lin,pc1&vintage_date=2022-04-22,2022-04-22&revision_date=2022-04-22,2022-04-22&nd=1948-01-01,1947-01-01"
      ],
      "metadata": {
        "id": "dCJkkRcgiYPZ"
      }
    },
    {
      "cell_type": "markdown",
      "source": [
        "The given visualization shows the chart of the unemployment rate and Consumer Price Index(CPI) of the United States from 1950 to 2020. The inflation rate of the US is increasing, and it will affect us in a drastic manner. The CPI can be used to recognize periods of inflation and deflation.  It is important for us to know the trend of unemployment and the CPI so that we can make certain changes to go through inflation. The unemployment rate and the CPI are color-coded so that we can easily determine which line is representing which attribute. Thus, it is easy to compare the trend that unemployment and CPI are following. The chart is also able to display the negative percentages as well. The x-axis represents the years, and the y-axis represents the percentage change. Over the years we can see there have been ups and downs with both unemployment and CPI however, the unemployment is at  all-time high in 2020.\n",
        "The hardest part was to find the appropriate dataset for the visualization. We can find lots of visualization regarding the topic we are looking for but finding the dataset is tough. I wanted my peers to get some knowledge through my project, so another tough part was coming up with this idea.\n"
      ],
      "metadata": {
        "id": "pQ1b-22eicbO"
      }
    }
  ]
}