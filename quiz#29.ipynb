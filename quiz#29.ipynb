{
  "nbformat": 4,
  "nbformat_minor": 0,
  "metadata": {
    "colab": {
      "name": "quiz#29.ipynb",
      "provenance": [],
      "authorship_tag": "ABX9TyOaUAQhwOO84uIi0X8V893p",
      "include_colab_link": true
    },
    "kernelspec": {
      "name": "python3",
      "display_name": "Python 3"
    },
    "language_info": {
      "name": "python"
    }
  },
  "cells": [
    {
      "cell_type": "markdown",
      "metadata": {
        "id": "view-in-github",
        "colab_type": "text"
      },
      "source": [
        "<a href=\"https://colab.research.google.com/github/RujanBhuju/Data-Processing-and-Visualization/blob/main/quiz%2329.ipynb\" target=\"_parent\"><img src=\"https://colab.research.google.com/assets/colab-badge.svg\" alt=\"Open In Colab\"/></a>"
      ]
    },
    {
      "cell_type": "markdown",
      "source": [
        "#CPSMA-4313-01\n",
        "\n",
        "#Dr Jacob's Data Processing Visualization\n",
        "\n",
        "#Rujan Bhuju(268963)"
      ],
      "metadata": {
        "id": "_wVYskDG0FAL"
      }
    },
    {
      "cell_type": "markdown",
      "source": [
        "Here, I will Explain the difference between standard error and confidence intervals and Use the workout data and graph the average calories by workout type and include the 95% confidence interval."
      ],
      "metadata": {
        "id": "jNJ6hIC30SmX"
      }
    }
  ]
}