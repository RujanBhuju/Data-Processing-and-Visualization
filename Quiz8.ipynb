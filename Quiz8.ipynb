{
  "nbformat": 4,
  "nbformat_minor": 0,
  "metadata": {
    "colab": {
      "name": "Quiz8.ipynb",
      "provenance": [],
      "collapsed_sections": [],
      "authorship_tag": "ABX9TyOu/use+crc/DNhrU6Tu2QO",
      "include_colab_link": true
    },
    "kernelspec": {
      "name": "python3",
      "display_name": "Python 3"
    },
    "language_info": {
      "name": "python"
    }
  },
  "cells": [
    {
      "cell_type": "markdown",
      "metadata": {
        "id": "view-in-github",
        "colab_type": "text"
      },
      "source": [
        "<a href=\"https://colab.research.google.com/github/RujanBhuju/Data-Processing-and-Visualization/blob/main/Quiz8.ipynb\" target=\"_parent\"><img src=\"https://colab.research.google.com/assets/colab-badge.svg\" alt=\"Open In Colab\"/></a>"
      ]
    },
    {
      "cell_type": "markdown",
      "source": [
        "CPSMA-4313-01\n",
        "\n",
        "Dr Jacob's Data Processing Visualization\n",
        "\n",
        "Rujan Bhuju(268963)"
      ],
      "metadata": {
        "id": "v_SLztxEjcLN"
      }
    },
    {
      "cell_type": "markdown",
      "source": [
        "Here i will be reading data from the web. It is an  important task for some data analysis projects. There are lots of fantastic packages to read and parse html. here i will be using requests to gather the raw html for me. BeautifulSoup will help me parse the code."
      ],
      "metadata": {
        "id": "htD2kkRRBz9Z"
      }
    },
    {
      "cell_type": "markdown",
      "source": [
        "Importing the required library."
      ],
      "metadata": {
        "id": "YJNB-hT_j7h3"
      }
    },
    {
      "cell_type": "code",
      "execution_count": 9,
      "metadata": {
        "id": "0_xwcF5uBdV1"
      },
      "outputs": [],
      "source": [
        "import requests\n",
        "import pandas as pd\n",
        "from bs4 import BeautifulSoup"
      ]
    },
    {
      "cell_type": "markdown",
      "source": [
        "I am going to use my favorite tv show The Big Bang Theory page from wikipedia.\n",
        "\n",
        "https://en.wikipedia.org/wiki/The_Big_Bang_Theory"
      ],
      "metadata": {
        "id": "vtL4eSrzCdF_"
      }
    },
    {
      "cell_type": "markdown",
      "source": [
        "Computing the required HTML using request."
      ],
      "metadata": {
        "id": "wM3MrslCC0_S"
      }
    },
    {
      "cell_type": "code",
      "source": [
        "r = requests.get('https://en.wikipedia.org/wiki/The_Big_Bang_Theory')\n",
        "html_contents = r.text\n",
        "html_soup = BeautifulSoup(html_contents,\"lxml\")"
      ],
      "metadata": {
        "id": "sP-4889HCvl_"
      },
      "execution_count": 3,
      "outputs": []
    },
    {
      "cell_type": "markdown",
      "source": [
        "Computing the title of the wikipedia page."
      ],
      "metadata": {
        "id": "GwFbcn-ZDD2f"
      }
    },
    {
      "cell_type": "code",
      "source": [
        "html_soup.title\n"
      ],
      "metadata": {
        "colab": {
          "base_uri": "https://localhost:8080/"
        },
        "id": "sR0KEOYpDHw7",
        "outputId": "85d192bb-6184-4167-bffd-b6a1b4f1a779"
      },
      "execution_count": 4,
      "outputs": [
        {
          "output_type": "execute_result",
          "data": {
            "text/plain": [
              "<title>The Big Bang Theory - Wikipedia</title>"
            ]
          },
          "metadata": {},
          "execution_count": 4
        }
      ]
    },
    {
      "cell_type": "markdown",
      "source": [
        "Output shows the title of the wikipedia page."
      ],
      "metadata": {
        "id": "QutF4C1OLVbj"
      }
    },
    {
      "cell_type": "markdown",
      "source": [
        "computing the table of my wikipedia page."
      ],
      "metadata": {
        "id": "NsYXuf6akt3I"
      }
    },
    {
      "cell_type": "code",
      "source": [
        "html_soup.table\n"
      ],
      "metadata": {
        "colab": {
          "base_uri": "https://localhost:8080/"
        },
        "id": "peddI8HpLZAt",
        "outputId": "9a3e2d73-443b-4fe5-cde3-b4e891689abc"
      },
      "execution_count": 5,
      "outputs": [
        {
          "output_type": "execute_result",
          "data": {
            "text/plain": [
              "<table class=\"infobox vevent\"><tbody><tr><th class=\"infobox-above summary\" colspan=\"2\" style=\"background: #CCCCFF; padding: 0.25em 1em; font-size: 125%;\"><i>The Big Bang Theory</i></th></tr><tr><td class=\"infobox-image\" colspan=\"2\"><a class=\"image\" href=\"/wiki/File:The_Big_Bang_Theory_(Official_Title_Card).png\"><img alt=\"The Big Bang Theory (Official Title Card).png\" data-file-height=\"236\" data-file-width=\"421\" decoding=\"async\" height=\"140\" src=\"//upload.wikimedia.org/wikipedia/en/thumb/7/7b/The_Big_Bang_Theory_%28Official_Title_Card%29.png/250px-The_Big_Bang_Theory_%28Official_Title_Card%29.png\" srcset=\"//upload.wikimedia.org/wikipedia/en/thumb/7/7b/The_Big_Bang_Theory_%28Official_Title_Card%29.png/375px-The_Big_Bang_Theory_%28Official_Title_Card%29.png 1.5x, //upload.wikimedia.org/wikipedia/en/7/7b/The_Big_Bang_Theory_%28Official_Title_Card%29.png 2x\" width=\"250\"/></a></td></tr><tr><th class=\"infobox-label\" scope=\"row\">Genre</th><td class=\"infobox-data category\"><a href=\"/wiki/Sitcom\" title=\"Sitcom\">Sitcom</a></td></tr><tr><th class=\"infobox-label\" scope=\"row\">Created by</th><td class=\"infobox-data\"><div class=\"plainlist\">\n",
              "<ul><li><a href=\"/wiki/Chuck_Lorre\" title=\"Chuck Lorre\">Chuck Lorre</a></li>\n",
              "<li><a href=\"/wiki/Bill_Prady\" title=\"Bill Prady\">Bill Prady</a></li></ul>\n",
              "</div></td></tr><tr><th class=\"infobox-label\" scope=\"row\">Directed by</th><td class=\"infobox-data attendee\"><a href=\"/wiki/Mark_Cendrowski\" title=\"Mark Cendrowski\">Mark Cendrowski</a></td></tr><tr><th class=\"infobox-label\" scope=\"row\">Starring</th><td class=\"infobox-data attendee\"><div class=\"plainlist\">\n",
              "<ul><li><a href=\"/wiki/Johnny_Galecki\" title=\"Johnny Galecki\">Johnny Galecki</a></li>\n",
              "<li><a href=\"/wiki/Jim_Parsons\" title=\"Jim Parsons\">Jim Parsons</a></li>\n",
              "<li><a href=\"/wiki/Kaley_Cuoco\" title=\"Kaley Cuoco\">Kaley Cuoco</a></li>\n",
              "<li><a href=\"/wiki/Simon_Helberg\" title=\"Simon Helberg\">Simon Helberg</a></li>\n",
              "<li><a href=\"/wiki/Kunal_Nayyar\" title=\"Kunal Nayyar\">Kunal Nayyar</a></li>\n",
              "<li><a href=\"/wiki/Sara_Gilbert\" title=\"Sara Gilbert\">Sara Gilbert</a></li>\n",
              "<li><a href=\"/wiki/Mayim_Bialik\" title=\"Mayim Bialik\">Mayim Bialik</a></li>\n",
              "<li><a href=\"/wiki/Melissa_Rauch\" title=\"Melissa Rauch\">Melissa Rauch</a></li>\n",
              "<li><a href=\"/wiki/Kevin_Sussman\" title=\"Kevin Sussman\">Kevin Sussman</a></li>\n",
              "<li><a href=\"/wiki/Laura_Spencer_(actress)\" title=\"Laura Spencer (actress)\">Laura Spencer</a></li></ul>\n",
              "</div></td></tr><tr><th class=\"infobox-label\" scope=\"row\">Theme music composer</th><td class=\"infobox-data\"><a href=\"/wiki/Barenaked_Ladies\" title=\"Barenaked Ladies\">Barenaked Ladies</a></td></tr><tr><th class=\"infobox-label\" scope=\"row\">Opening theme</th><td class=\"infobox-data\">\"Big Bang Theory Theme\"<sup class=\"reference\" id=\"cite_ref-1\"><a href=\"#cite_note-1\">[1]</a></sup><sup class=\"reference\" id=\"cite_ref-2\"><a href=\"#cite_note-2\">[2]</a></sup></td></tr><tr><th class=\"infobox-label\" scope=\"row\">Country of origin</th><td class=\"infobox-data\">United States</td></tr><tr><th class=\"infobox-label\" scope=\"row\">Original language</th><td class=\"infobox-data\">English</td></tr><tr><th class=\"infobox-label\" scope=\"row\"><abbr title=\"Number\">No.</abbr> of seasons</th><td class=\"infobox-data\">12</td></tr><tr><th class=\"infobox-label\" scope=\"row\"><abbr title=\"Number\">No.</abbr> of episodes</th><td class=\"infobox-data\">279 <span class=\"nowrap\">(<a href=\"/wiki/List_of_The_Big_Bang_Theory_episodes\" title=\"List of The Big Bang Theory episodes\">list of episodes</a>)</span></td></tr><tr><th class=\"infobox-header summary\" colspan=\"2\" style=\"background: #CCCCFF; padding: 0.25em 1em;\">Production</th></tr><tr><th class=\"infobox-label\" scope=\"row\">Executive producers</th><td class=\"infobox-data\"><div class=\"plainlist\">\n",
              "<ul><li><a href=\"/wiki/Chuck_Lorre\" title=\"Chuck Lorre\">Chuck Lorre</a></li>\n",
              "<li><a href=\"/wiki/Bill_Prady\" title=\"Bill Prady\">Bill Prady</a>  (both; entire run)</li>\n",
              "<li><a href=\"/wiki/Lee_Aronsohn\" title=\"Lee Aronsohn\">Lee Aronsohn</a> (2007–11)</li>\n",
              "<li><a href=\"/wiki/Steven_Molaro\" title=\"Steven Molaro\">Steven Molaro</a> (2011–19)</li>\n",
              "<li><a href=\"/wiki/Eric_Kaplan\" title=\"Eric Kaplan\">Eric Kaplan</a></li>\n",
              "<li>Maria Ferrari</li>\n",
              "<li>Dave Goetsch  (all; 2016–19)</li></ul>\n",
              "</div></td></tr><tr><th class=\"infobox-label\" scope=\"row\">Producer</th><td class=\"infobox-data\"><a href=\"/wiki/Faye_Oshima_Belyeu\" title=\"Faye Oshima Belyeu\">Faye Oshima Belyeu</a></td></tr><tr><th class=\"infobox-label\" scope=\"row\">Editor</th><td class=\"infobox-data\">Peter Chakos</td></tr><tr><th class=\"infobox-label\" scope=\"row\">Camera setup</th><td class=\"infobox-data\"><a href=\"/wiki/Multiple-camera_setup\" title=\"Multiple-camera setup\">Multi-camera</a></td></tr><tr><th class=\"infobox-label\" scope=\"row\">Running time</th><td class=\"infobox-data\">18–22 minutes</td></tr><tr><th class=\"infobox-label\" scope=\"row\">Production companies</th><td class=\"infobox-data\"><div class=\"plainlist\">\n",
              "<ul><li>Chuck Lorre Productions</li>\n",
              "<li><a class=\"mw-redirect\" href=\"/wiki/Warner_Bros._Television\" title=\"Warner Bros. Television\">Warner Bros. Television</a></li></ul>\n",
              "</div></td></tr><tr><th class=\"infobox-label\" scope=\"row\">Distributor</th><td class=\"infobox-data\"><a class=\"mw-redirect\" href=\"/wiki/Warner_Bros._Television_Distribution\" title=\"Warner Bros. Television Distribution\">Warner Bros. Television Distribution</a></td></tr><tr><th class=\"infobox-header summary\" colspan=\"2\" style=\"background: #CCCCFF; padding: 0.25em 1em;\">Release</th></tr><tr><th class=\"infobox-label\" scope=\"row\">Original network</th><td class=\"infobox-data\"><a href=\"/wiki/CBS\" title=\"CBS\">CBS</a></td></tr><tr><th class=\"infobox-label\" scope=\"row\">Picture format</th><td class=\"infobox-data\"><a href=\"/wiki/High-definition_television\" title=\"High-definition television\">HDTV</a> <a href=\"/wiki/1080i\" title=\"1080i\">1080i</a></td></tr><tr><th class=\"infobox-label\" scope=\"row\">Audio format</th><td class=\"infobox-data\"><a href=\"/wiki/Dolby_Digital\" title=\"Dolby Digital\">Dolby Digital 5.1</a></td></tr><tr><th class=\"infobox-label\" scope=\"row\">Original release</th><td class=\"infobox-data\">September 24, 2007<span style=\"display:none\"> (<span class=\"bday dtstart published updated\">2007-09-24</span>)</span> –<br/>May 16, 2019<span style=\"display:none\"> (<span class=\"dtend\">2019-05-16</span>)</span></td></tr><tr><th class=\"infobox-header summary\" colspan=\"2\" style=\"background: #CCCCFF; padding: 0.25em 1em;\">Chronology</th></tr><tr><th class=\"infobox-label\" scope=\"row\">Related shows</th><td class=\"infobox-data\"><i><a href=\"/wiki/Young_Sheldon\" title=\"Young Sheldon\">Young Sheldon</a></i></td></tr><tr><th class=\"infobox-header summary\" colspan=\"2\" style=\"background: #CCCCFF; padding: 0.25em 1em;\">External links</th></tr><tr><td class=\"infobox-full-data url\" colspan=\"2\"><a class=\"external text\" href=\"https://www.cbs.com/shows/big_bang_theory\" rel=\"nofollow\">Website</a></td></tr></tbody></table>"
            ]
          },
          "metadata": {},
          "execution_count": 5
        }
      ]
    },
    {
      "cell_type": "markdown",
      "source": [
        "Output shows the table with many links."
      ],
      "metadata": {
        "id": "wThGVqoJk1F4"
      }
    },
    {
      "cell_type": "markdown",
      "source": [
        "Now, computing the table with all the links."
      ],
      "metadata": {
        "id": "He09-zNzXvQR"
      }
    },
    {
      "cell_type": "code",
      "source": [
        "html_soup.table.find_all('a')\n"
      ],
      "metadata": {
        "colab": {
          "base_uri": "https://localhost:8080/"
        },
        "id": "1M0fB9KDLnaA",
        "outputId": "d996868a-1667-47ad-ff70-4c56335dc593"
      },
      "execution_count": 6,
      "outputs": [
        {
          "output_type": "execute_result",
          "data": {
            "text/plain": [
              "[<a class=\"image\" href=\"/wiki/File:The_Big_Bang_Theory_(Official_Title_Card).png\"><img alt=\"The Big Bang Theory (Official Title Card).png\" data-file-height=\"236\" data-file-width=\"421\" decoding=\"async\" height=\"140\" src=\"//upload.wikimedia.org/wikipedia/en/thumb/7/7b/The_Big_Bang_Theory_%28Official_Title_Card%29.png/250px-The_Big_Bang_Theory_%28Official_Title_Card%29.png\" srcset=\"//upload.wikimedia.org/wikipedia/en/thumb/7/7b/The_Big_Bang_Theory_%28Official_Title_Card%29.png/375px-The_Big_Bang_Theory_%28Official_Title_Card%29.png 1.5x, //upload.wikimedia.org/wikipedia/en/7/7b/The_Big_Bang_Theory_%28Official_Title_Card%29.png 2x\" width=\"250\"/></a>,\n",
              " <a href=\"/wiki/Sitcom\" title=\"Sitcom\">Sitcom</a>,\n",
              " <a href=\"/wiki/Chuck_Lorre\" title=\"Chuck Lorre\">Chuck Lorre</a>,\n",
              " <a href=\"/wiki/Bill_Prady\" title=\"Bill Prady\">Bill Prady</a>,\n",
              " <a href=\"/wiki/Mark_Cendrowski\" title=\"Mark Cendrowski\">Mark Cendrowski</a>,\n",
              " <a href=\"/wiki/Johnny_Galecki\" title=\"Johnny Galecki\">Johnny Galecki</a>,\n",
              " <a href=\"/wiki/Jim_Parsons\" title=\"Jim Parsons\">Jim Parsons</a>,\n",
              " <a href=\"/wiki/Kaley_Cuoco\" title=\"Kaley Cuoco\">Kaley Cuoco</a>,\n",
              " <a href=\"/wiki/Simon_Helberg\" title=\"Simon Helberg\">Simon Helberg</a>,\n",
              " <a href=\"/wiki/Kunal_Nayyar\" title=\"Kunal Nayyar\">Kunal Nayyar</a>,\n",
              " <a href=\"/wiki/Sara_Gilbert\" title=\"Sara Gilbert\">Sara Gilbert</a>,\n",
              " <a href=\"/wiki/Mayim_Bialik\" title=\"Mayim Bialik\">Mayim Bialik</a>,\n",
              " <a href=\"/wiki/Melissa_Rauch\" title=\"Melissa Rauch\">Melissa Rauch</a>,\n",
              " <a href=\"/wiki/Kevin_Sussman\" title=\"Kevin Sussman\">Kevin Sussman</a>,\n",
              " <a href=\"/wiki/Laura_Spencer_(actress)\" title=\"Laura Spencer (actress)\">Laura Spencer</a>,\n",
              " <a href=\"/wiki/Barenaked_Ladies\" title=\"Barenaked Ladies\">Barenaked Ladies</a>,\n",
              " <a href=\"#cite_note-1\">[1]</a>,\n",
              " <a href=\"#cite_note-2\">[2]</a>,\n",
              " <a href=\"/wiki/List_of_The_Big_Bang_Theory_episodes\" title=\"List of The Big Bang Theory episodes\">list of episodes</a>,\n",
              " <a href=\"/wiki/Chuck_Lorre\" title=\"Chuck Lorre\">Chuck Lorre</a>,\n",
              " <a href=\"/wiki/Bill_Prady\" title=\"Bill Prady\">Bill Prady</a>,\n",
              " <a href=\"/wiki/Lee_Aronsohn\" title=\"Lee Aronsohn\">Lee Aronsohn</a>,\n",
              " <a href=\"/wiki/Steven_Molaro\" title=\"Steven Molaro\">Steven Molaro</a>,\n",
              " <a href=\"/wiki/Eric_Kaplan\" title=\"Eric Kaplan\">Eric Kaplan</a>,\n",
              " <a href=\"/wiki/Faye_Oshima_Belyeu\" title=\"Faye Oshima Belyeu\">Faye Oshima Belyeu</a>,\n",
              " <a href=\"/wiki/Multiple-camera_setup\" title=\"Multiple-camera setup\">Multi-camera</a>,\n",
              " <a class=\"mw-redirect\" href=\"/wiki/Warner_Bros._Television\" title=\"Warner Bros. Television\">Warner Bros. Television</a>,\n",
              " <a class=\"mw-redirect\" href=\"/wiki/Warner_Bros._Television_Distribution\" title=\"Warner Bros. Television Distribution\">Warner Bros. Television Distribution</a>,\n",
              " <a href=\"/wiki/CBS\" title=\"CBS\">CBS</a>,\n",
              " <a href=\"/wiki/High-definition_television\" title=\"High-definition television\">HDTV</a>,\n",
              " <a href=\"/wiki/1080i\" title=\"1080i\">1080i</a>,\n",
              " <a href=\"/wiki/Dolby_Digital\" title=\"Dolby Digital\">Dolby Digital 5.1</a>,\n",
              " <a href=\"/wiki/Young_Sheldon\" title=\"Young Sheldon\">Young Sheldon</a>,\n",
              " <a class=\"external text\" href=\"https://www.cbs.com/shows/big_bang_theory\" rel=\"nofollow\">Website</a>]"
            ]
          },
          "metadata": {},
          "execution_count": 6
        }
      ]
    },
    {
      "cell_type": "markdown",
      "source": [
        "Output shows the table with all the links."
      ],
      "metadata": {
        "id": "QpkklOUkX1g3"
      }
    },
    {
      "cell_type": "markdown",
      "source": [
        "Using tabulate to print those data into the table."
      ],
      "metadata": {
        "id": "gOM-UeujYpif"
      }
    },
    {
      "cell_type": "code",
      "source": [
        "from tabulate import tabulate\n",
        "table = html_soup.find_all(class_ = 'infobox vevent')[0] \n",
        "df = pd.read_html(str(table))\n",
        "print( tabulate(df[0], headers='keys', tablefmt='psql') )"
      ],
      "metadata": {
        "colab": {
          "base_uri": "https://localhost:8080/"
        },
        "id": "JgIBwLxVWpv2",
        "outputId": "b2f73cd9-253a-44ff-f266-9941d352ff60"
      },
      "execution_count": 10,
      "outputs": [
        {
          "output_type": "stream",
          "name": "stdout",
          "text": [
            "+----+-----------------------+------------------------------------------------------------------------------------------------------------------------------------------------+\n",
            "|    | The Big Bang Theory   | The Big Bang Theory.1                                                                                                                          |\n",
            "|----+-----------------------+------------------------------------------------------------------------------------------------------------------------------------------------|\n",
            "|  0 | nan                   | nan                                                                                                                                            |\n",
            "|  1 | Genre                 | Sitcom                                                                                                                                         |\n",
            "|  2 | Created by            | Chuck Lorre Bill Prady                                                                                                                         |\n",
            "|  3 | Directed by           | Mark Cendrowski                                                                                                                                |\n",
            "|  4 | Starring              | Johnny Galecki Jim Parsons Kaley Cuoco Simon Helberg Kunal Nayyar Sara Gilbert Mayim Bialik Melissa Rauch Kevin Sussman Laura Spencer          |\n",
            "|  5 | Theme music composer  | Barenaked Ladies                                                                                                                               |\n",
            "|  6 | Opening theme         | \"Big Bang Theory Theme\"[1][2]                                                                                                                  |\n",
            "|  7 | Country of origin     | United States                                                                                                                                  |\n",
            "|  8 | Original language     | English                                                                                                                                        |\n",
            "|  9 | No. of seasons        | 12                                                                                                                                             |\n",
            "| 10 | No. of episodes       | 279 (list of episodes)                                                                                                                         |\n",
            "| 11 | Production            | Production                                                                                                                                     |\n",
            "| 12 | Executive producers   | Chuck Lorre Bill Prady (both; entire run) Lee Aronsohn (2007–11) Steven Molaro (2011–19) Eric Kaplan Maria Ferrari Dave Goetsch (all; 2016–19) |\n",
            "| 13 | Producer              | Faye Oshima Belyeu                                                                                                                             |\n",
            "| 14 | Editor                | Peter Chakos                                                                                                                                   |\n",
            "| 15 | Camera setup          | Multi-camera                                                                                                                                   |\n",
            "| 16 | Running time          | 18–22 minutes                                                                                                                                  |\n",
            "| 17 | Production companies  | Chuck Lorre Productions Warner Bros. Television                                                                                                |\n",
            "| 18 | Distributor           | Warner Bros. Television Distribution                                                                                                           |\n",
            "| 19 | Release               | Release                                                                                                                                        |\n",
            "| 20 | Original network      | CBS                                                                                                                                            |\n",
            "| 21 | Picture format        | HDTV 1080i                                                                                                                                     |\n",
            "| 22 | Audio format          | Dolby Digital 5.1                                                                                                                              |\n",
            "| 23 | Original release      | September 24, 2007May 16, 2019                                                                                                                 |\n",
            "| 24 | Chronology            | Chronology                                                                                                                                     |\n",
            "| 25 | Related shows         | Young Sheldon                                                                                                                                  |\n",
            "| 26 | External links        | External links                                                                                                                                 |\n",
            "| 27 | Website               | Website                                                                                                                                        |\n",
            "+----+-----------------------+------------------------------------------------------------------------------------------------------------------------------------------------+\n"
          ]
        }
      ]
    },
    {
      "cell_type": "code",
      "source": [
        "table = html_soup.find_all(class_ = 'wikitable plainrowheaders')[0]\n",
        "dataFrame = pd.read_html(str(table))\n",
        "print( tabulate(dataFrame[0], headers='keys', tablefmt='psql') )"
      ],
      "metadata": {
        "colab": {
          "base_uri": "https://localhost:8080/"
        },
        "id": "j_n02qU0XevG",
        "outputId": "1873f826-06ec-4f08-b431-99c0b0664b1e"
      },
      "execution_count": 11,
      "outputs": [
        {
          "output_type": "stream",
          "name": "stdout",
          "text": [
            "+----+------------------------+--------------------------+----------------------------+------------------------------+---------------------------------------+--------------------------------------+----------------------------------+--------------------------------------------------------+------------------------------+----------------------------------------------+\n",
            "|    |   ('Season', 'Season') |   ('Season', 'Season.1') |   ('Episodes', 'Episodes') |   ('Episodes', 'Episodes.1') | ('Originally aired', 'First aired')   | ('Originally aired', 'Last aired')   | ('Viewersrank', 'Viewersrank')   |   ('U.S. Viewers(millions)', 'U.S. Viewers(millions)') | ('18–49rank', '18–49rank')   | ('18–49rating/share', '18–49rating/share')   |\n",
            "|----+------------------------+--------------------------+----------------------------+------------------------------+---------------------------------------+--------------------------------------+----------------------------------+--------------------------------------------------------+------------------------------+----------------------------------------------|\n",
            "|  0 |                    nan |                        1 |                         17 |                           17 | September 24, 2007                    | May 19, 2008                         | 68[59]                           |                                                   8.31 | 46[60]                       | 3.3/8                                        |\n",
            "|  1 |                    nan |                        2 |                         23 |                           23 | September 22, 2008                    | May 11, 2009                         | 40[61]                           |                                                  10.03 | nan                          | nan                                          |\n",
            "|  2 |                    nan |                        3 |                         23 |                           23 | September 21, 2009                    | May 24, 2010                         | 12                               |                                                  14.22 | 5[62]                        | 5.3/13                                       |\n",
            "|  3 |                    nan |                        4 |                         24 |                           24 | September 23, 2010                    | May 19, 2011                         | 13                               |                                                  13.21 | 7[63]                        | 4.4/13                                       |\n",
            "|  4 |                    nan |                        5 |                         24 |                           24 | September 22, 2011                    | May 10, 2012                         | 8                                |                                                  15.82 | 6[64]                        | 5.5/17                                       |\n",
            "|  5 |                    nan |                        6 |                         24 |                           24 | September 27, 2012                    | May 16, 2013                         | 3                                |                                                  18.68 | 2[65]                        | 6.2/19                                       |\n",
            "|  6 |                    nan |                        7 |                         24 |                           24 | September 26, 2013                    | May 15, 2014                         | 2                                |                                                  19.96 | 2[66]                        | 6.2/20                                       |\n",
            "|  7 |                    nan |                        8 |                         24 |                           24 | September 22, 2014                    | May 7, 2015                          | 2                                |                                                  19.05 | 4[67]                        | 5.6/17                                       |\n",
            "|  8 |                    nan |                        9 |                         24 |                           24 | September 21, 2015                    | May 12, 2016                         | 2                                |                                                  20.36 | 3[68]                        | 5.8/19                                       |\n",
            "|  9 |                    nan |                       10 |                         24 |                           24 | September 19, 2016                    | May 11, 2017                         | 2                                |                                                  18.99 | 3[69]                        | 4.9/19                                       |\n",
            "| 10 |                    nan |                       11 |                         24 |                           24 | September 25, 2017                    | May 10, 2018                         | 1                                |                                                  18.63 | 5[70]                        | 4.4                                          |\n",
            "| 11 |                    nan |                       12 |                         24 |                           24 | September 24, 2018                    | May 16, 2019                         | 2                                |                                                  17.31 | 6[71]                        | 3.6                                          |\n",
            "+----+------------------------+--------------------------+----------------------------+------------------------------+---------------------------------------+--------------------------------------+----------------------------------+--------------------------------------------------------+------------------------------+----------------------------------------------+\n"
          ]
        }
      ]
    }
  ]
}